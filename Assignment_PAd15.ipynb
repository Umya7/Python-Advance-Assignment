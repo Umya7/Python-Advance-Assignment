{
 "cells": [
  {
   "cell_type": "markdown",
   "id": "9cc60186",
   "metadata": {},
   "source": [
    "## Assignment 15"
   ]
  },
  {
   "cell_type": "markdown",
   "id": "60bb7455",
   "metadata": {},
   "source": [
    "**Q.1.** What are the new features added in Python 3.8 version?"
   ]
  },
  {
   "cell_type": "markdown",
   "id": "817e1304",
   "metadata": {},
   "source": [
    "**Answer :**"
   ]
  },
  {
   "cell_type": "markdown",
   "id": "51d998a2",
   "metadata": {},
   "source": [
    "Some New Features Added in Python 3.8 Version are:\n",
    "\n",
    "Walrus Operator: This operator is used to assign and return a value in the same expression. This removes the need for initializing the variable upfront. The major benefit of this is it saves some lines of code. It is also known as The Walrus Operator due to its similarity to the eyes and tusks of a walrus.\n",
    "\n",
    "yield and return statements do not require parentheses to return multiple values.\n",
    "\n",
    "Reversed works with a dictionary. The built-in method reversed() can be used for accessing the elements in the reverse order of insertion\n",
    "\n",
    "Dict comprehensions have been modified so that the key is computed first and the value second.\n",
    "\n",
    "importlib_metadata is a new library added in the Python’s standard utility modules, that provides an API for accessing an installed package’s metadata, such as its entry points or its top-level name.\n",
    "\n",
    "f-strings now support = , to make string interpolation easy. Python 3.8 allows the use of the above-discussed assignment operator and equal sign (=) inside the f-strings.\n",
    "\n",
    "In the three-argument form of pow(), when the exponent is -1, it calculates the modular multiplicative inverse of the given value\n",
    "\n",
    "The csv.DictReader now returns instances of dictionary instead of a collections.OrderedDict.\n",
    "\n",
    "If you miss a comma in your code such as a = [(1, 2) (3, 4)], instead of throwing TypeError, it displays an informative Syntax warning.\n",
    "\n",
    "**Example of Walrus Operator**\n",
    "```python\n",
    "if (sum := 10 + 5) > 10: # its always recommended to use paranthesis with walrus operator\n",
    "    print(sum) #return 15 \n",
    "```\n",
    "15\n",
    "\n",
    "**Example of yield and return**\n",
    "```python\n",
    "def hello():\n",
    "    return 'Hello','Good Morning'\n",
    "print(hello())\n",
    "def count():\n",
    "    for i in range(5):\n",
    "        yield i,i**2\n",
    "for ele in count():\n",
    "    print(ele, end=\" \")\n",
    "print()\n",
    "```\n",
    "('Hello', 'Good Morning')\n",
    "(0, 0) (1, 1) (2, 4) (3, 9) (4, 16)\n",
    "\n",
    "**Example of Reversed Support for dict**\n",
    "```python\n",
    "t_dict = {\"Name\" : \"Umesh Prajapati\", \"Role\" : \"Analyst\"}\n",
    "for ele in reversed(t_dict):\n",
    "    print(f'{ele}:\"{t_dict[ele]}\"')\n",
    "```\n",
    "Role:\"Analyst\"\n",
    "Name:\"Umesh Prajapati\"\n",
    "    \n",
    "**Example of using = in F-strings**\n",
    "```python\n",
    "len_string = len(\"Ineuron Full Stack Data Science\")\n",
    "print(f'The length of string is {len_string = }')\n",
    "```\n",
    "The length of string is len_string = 31\n",
    "\n",
    "**Example of Infomrative syntax instead of synatx error while missing comma.**\n",
    "```python\n",
    "r_list = [(1,2) (3,4)]\n",
    "f (sum := 10 + 5) > 10: # its always recommended to use paranthesis with walrus operator\n",
    "```\n",
    "File \"<ipython-input-7-3d61b5683a79>\", line 2\\\n",
    "    f (sum := 10 + 5) > 10: # its always recommended to use paranthesis with walrus operator\\\n",
    "                            ^\n",
    "SyntaxError: invalid syntax"
   ]
  },
  {
   "cell_type": "markdown",
   "id": "c9c9c8c3",
   "metadata": {},
   "source": [
    "**Q.2.** What is monkey patching in Python?"
   ]
  },
  {
   "cell_type": "markdown",
   "id": "49188814",
   "metadata": {},
   "source": [
    "**Answer :**"
   ]
  },
  {
   "cell_type": "markdown",
   "id": "33548758",
   "metadata": {},
   "source": [
    "Monkey patching means to dynamic modifications of a class or a module. We can actually change the behavior of code at run time.\n",
    "\n",
    "**Example :**"
   ]
  },
  {
   "cell_type": "code",
   "execution_count": 1,
   "id": "f6ece0ec",
   "metadata": {},
   "outputs": [
    {
     "name": "stdout",
     "output_type": "stream",
     "text": [
      "monkey_f() is being called\n"
     ]
    }
   ],
   "source": [
    "class A:\n",
    "    def func(self):\n",
    "        print(\"func() is being called\")\n",
    "\n",
    "def monkey_f(self):\n",
    "    print(\"monkey_f() is being called\")\n",
    "\n",
    "A.func = monkey_f\n",
    "\n",
    "some_object = A()\n",
    "some_object.func()"
   ]
  },
  {
   "cell_type": "markdown",
   "id": "8c73c572",
   "metadata": {},
   "source": [
    "**Q.3.** What is the difference between a shallow copy and deep copy?"
   ]
  },
  {
   "cell_type": "markdown",
   "id": "aa51a8f4",
   "metadata": {},
   "source": [
    "**Answer :**"
   ]
  },
  {
   "cell_type": "markdown",
   "id": "29e614a7",
   "metadata": {},
   "source": [
    "The Differences between a Shallow Copy and deep copy are as follows :\n",
    "\n",
    "- **`Shallow Copy`** : When an object is copied using copy(), it is called shallow copy as changes made in copied object will also make corresponding changes in original object, because both the objects will be referencing same address location.\n",
    "- **`Deep Copy`** : When an object is copied using deepcopy(), it is called deep copy as changes made in copied object will not make corresponding changes in original object, because both the objects will not be referencing same address location.\n",
    "    \n",
    "**Example :**"
   ]
  },
  {
   "cell_type": "code",
   "execution_count": 2,
   "id": "90ea8f13",
   "metadata": {},
   "outputs": [
    {
     "name": "stdout",
     "output_type": "stream",
     "text": [
      "Original Elements of each List\n",
      "[1, 2, [3, 4], 5, 6]\n",
      "[1, 2, [3, 4], 5, 6]\n",
      "[1, 2, [3, 4], 5, 6]\n",
      "New Elements of each List\n",
      "[1, 2, [3, 4], 5, 20]\n",
      "[10, 2, [3, 4], 5, 6]\n",
      "[1, 2, [3, 4], 5, 20]\n"
     ]
    }
   ],
   "source": [
    "from copy import deepcopy, copy\n",
    "\n",
    "l_one = [1,2,[3,4],5,6]\n",
    "l_two = deepcopy(l_one)\n",
    "l_three = l_one\n",
    "\n",
    "print(f'Original Elements of each List\\n{l_one}\\n{l_two}\\n{l_three}')\n",
    "\n",
    "l_two[0] = 10\n",
    "l_three[-1] = 20\n",
    "\n",
    "print(f'New Elements of each List\\n{l_one}\\n{l_two}\\n{l_three}')"
   ]
  },
  {
   "cell_type": "markdown",
   "id": "4d68f8aa",
   "metadata": {},
   "source": [
    "**Q.4.** What is the maximum possible length of an identifier?"
   ]
  },
  {
   "cell_type": "markdown",
   "id": "a38173cb",
   "metadata": {},
   "source": [
    "**Answer :**"
   ]
  },
  {
   "cell_type": "markdown",
   "id": "44df424f",
   "metadata": {},
   "source": [
    "The maximum possible length of an identifier is 79 characters."
   ]
  },
  {
   "cell_type": "markdown",
   "id": "b2586c85",
   "metadata": {},
   "source": [
    "**Q.5.** What is generator comprehension?"
   ]
  },
  {
   "cell_type": "markdown",
   "id": "0dd20a7b",
   "metadata": {},
   "source": [
    "**Answer :**"
   ]
  },
  {
   "cell_type": "markdown",
   "id": "3c145497",
   "metadata": {},
   "source": [
    "It is a single line specification for defining a generator in Python.it is absolutely essential to learn this syntax in order to write simple and readable code.\n",
    "\n",
    "**Example :**"
   ]
  },
  {
   "cell_type": "code",
   "execution_count": 3,
   "id": "4a44de67",
   "metadata": {},
   "outputs": [
    {
     "name": "stdout",
     "output_type": "stream",
     "text": [
      "[0, 1, 2, 3, 4, 5, 6, 7, 8, 9]\n",
      "<generator object <genexpr> at 0x000002AC3970B120>\n",
      "0 2 4 6 8 "
     ]
    }
   ],
   "source": [
    "in_list = [x for x in range(10)] # List Comprehension\n",
    "print(in_list)\n",
    "out_gen = (x for x in in_list if x%2 == 0) # Generator Comprehension\n",
    "print(out_gen) # Returns a Generator Object\n",
    "for ele in out_gen:\n",
    "    print(ele, end=\" \")"
   ]
  }
 ],
 "metadata": {
  "kernelspec": {
   "display_name": "Python 3",
   "language": "python",
   "name": "python3"
  },
  "language_info": {
   "codemirror_mode": {
    "name": "ipython",
    "version": 3
   },
   "file_extension": ".py",
   "mimetype": "text/x-python",
   "name": "python",
   "nbconvert_exporter": "python",
   "pygments_lexer": "ipython3",
   "version": "3.8.8"
  }
 },
 "nbformat": 4,
 "nbformat_minor": 5
}
