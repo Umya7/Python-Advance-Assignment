{
 "cells": [
  {
   "cell_type": "markdown",
   "id": "148b10ee",
   "metadata": {},
   "source": [
    "## Assignment 25"
   ]
  },
  {
   "cell_type": "markdown",
   "id": "01936a1e",
   "metadata": {},
   "source": [
    "**Q.1.** What is the distinction between a numpy array and a pandas data frame? Is there a way to\n",
    "convert between the two if there is?"
   ]
  },
  {
   "cell_type": "markdown",
   "id": "9cd048fe",
   "metadata": {},
   "source": [
    "**Answer :**"
   ]
  },
  {
   "cell_type": "markdown",
   "id": "268d318e",
   "metadata": {},
   "source": [
    "Numpy Ndarray provides a lot of convenient and optimized methods for performing several mathematical operations on vectors.\n",
    "\n",
    "Pandas Dataframe is an in-memory 2-dimensional tabular representation of data. In simpler words, it can be seen as a spreadsheet having rows and columns.\n",
    "\n",
    "Conversion : `Dataframe=pandas.DataFrame(array)`\n",
    "\n",
    "**Example :**"
   ]
  },
  {
   "cell_type": "code",
   "execution_count": 1,
   "id": "15ea969a",
   "metadata": {},
   "outputs": [
    {
     "data": {
      "text/plain": [
       "array([[0, 1, 2, 3, 4],\n",
       "       [5, 6, 7, 8, 9]])"
      ]
     },
     "execution_count": 1,
     "metadata": {},
     "output_type": "execute_result"
    }
   ],
   "source": [
    "import pandas as pd\n",
    "import numpy as np\n",
    "array = np.arange(10).reshape(2,5)\n",
    "array"
   ]
  },
  {
   "cell_type": "code",
   "execution_count": 2,
   "id": "bee0e574",
   "metadata": {},
   "outputs": [
    {
     "data": {
      "text/html": [
       "<div>\n",
       "<style scoped>\n",
       "    .dataframe tbody tr th:only-of-type {\n",
       "        vertical-align: middle;\n",
       "    }\n",
       "\n",
       "    .dataframe tbody tr th {\n",
       "        vertical-align: top;\n",
       "    }\n",
       "\n",
       "    .dataframe thead th {\n",
       "        text-align: right;\n",
       "    }\n",
       "</style>\n",
       "<table border=\"1\" class=\"dataframe\">\n",
       "  <thead>\n",
       "    <tr style=\"text-align: right;\">\n",
       "      <th></th>\n",
       "      <th>0</th>\n",
       "      <th>1</th>\n",
       "      <th>2</th>\n",
       "      <th>3</th>\n",
       "      <th>4</th>\n",
       "    </tr>\n",
       "  </thead>\n",
       "  <tbody>\n",
       "    <tr>\n",
       "      <th>0</th>\n",
       "      <td>0</td>\n",
       "      <td>1</td>\n",
       "      <td>2</td>\n",
       "      <td>3</td>\n",
       "      <td>4</td>\n",
       "    </tr>\n",
       "    <tr>\n",
       "      <th>1</th>\n",
       "      <td>5</td>\n",
       "      <td>6</td>\n",
       "      <td>7</td>\n",
       "      <td>8</td>\n",
       "      <td>9</td>\n",
       "    </tr>\n",
       "  </tbody>\n",
       "</table>\n",
       "</div>"
      ],
      "text/plain": [
       "   0  1  2  3  4\n",
       "0  0  1  2  3  4\n",
       "1  5  6  7  8  9"
      ]
     },
     "execution_count": 2,
     "metadata": {},
     "output_type": "execute_result"
    }
   ],
   "source": [
    "df = pd.DataFrame(array)\n",
    "df"
   ]
  },
  {
   "cell_type": "code",
   "execution_count": 3,
   "id": "5704bc18",
   "metadata": {},
   "outputs": [
    {
     "data": {
      "text/plain": [
       "array([[0, 1, 2, 3, 4],\n",
       "       [5, 6, 7, 8, 9]])"
      ]
     },
     "execution_count": 3,
     "metadata": {},
     "output_type": "execute_result"
    }
   ],
   "source": [
    "df.to_numpy()"
   ]
  },
  {
   "cell_type": "markdown",
   "id": "085e0302",
   "metadata": {},
   "source": [
    "**Q.2.** What can go wrong when an user enters in a stock-ticker symbol, and how do you handle it?"
   ]
  },
  {
   "cell_type": "markdown",
   "id": "0d797558",
   "metadata": {},
   "source": [
    "**Answer :**"
   ]
  },
  {
   "cell_type": "markdown",
   "id": "a8e32637",
   "metadata": {},
   "source": [
    "Ticker Symbol is the use of letters to represent shares that are traded on the stock market, and it is mainly a combination of two or three alphabets that is unique and easy for investors to identify and buy/sell that particular stock with the help of this symbol on the stock exchange."
   ]
  },
  {
   "cell_type": "markdown",
   "id": "8aa13e41",
   "metadata": {},
   "source": [
    "**Q.3.** Identify some of the plotting techniques that are used to produce a stock-market chart."
   ]
  },
  {
   "cell_type": "markdown",
   "id": "76b59a49",
   "metadata": {},
   "source": [
    "**Answer :**"
   ]
  },
  {
   "cell_type": "markdown",
   "id": "ac25f632",
   "metadata": {},
   "source": [
    "Line Chart, Point & Figure Chard, Candlestick Chart, & Bar Chart."
   ]
  },
  {
   "cell_type": "markdown",
   "id": "b8b27cf8",
   "metadata": {},
   "source": [
    "**Q.4.** Why is it essential to print a legend on a stock market chart?"
   ]
  },
  {
   "cell_type": "markdown",
   "id": "ca548829",
   "metadata": {},
   "source": [
    "**Answer :**"
   ]
  },
  {
   "cell_type": "markdown",
   "id": "4c722696",
   "metadata": {},
   "source": [
    "Legend will help comparison between different stocks, so will be essential on a stock market chart"
   ]
  },
  {
   "cell_type": "markdown",
   "id": "1a9a6b06",
   "metadata": {},
   "source": [
    "**Q.5.** What is the best way to limit the length of a pandas data frame to less than a year?"
   ]
  },
  {
   "cell_type": "markdown",
   "id": "a1f81bdb",
   "metadata": {},
   "source": [
    "**Answer :**"
   ]
  },
  {
   "cell_type": "markdown",
   "id": "c1a66b83",
   "metadata": {},
   "source": [
    "We can use start and end parameters for that. In start we write the date from where we are starting and at the end we write the end date. SO within this span we can restric the duration.Also we can use the parameters like periods for how much times we need the duration and we can also use the frequency parameter."
   ]
  },
  {
   "cell_type": "markdown",
   "id": "0eeca5c2",
   "metadata": {},
   "source": [
    "**Q.6** What is the definition of a 180-day moving average?"
   ]
  },
  {
   "cell_type": "markdown",
   "id": "01b42910",
   "metadata": {},
   "source": [
    "**Answer :**"
   ]
  },
  {
   "cell_type": "markdown",
   "id": "c91198c7",
   "metadata": {},
   "source": [
    "The 180-day moving average is represented as a line on charts and represents the average price over the past 180 days. The moving average can give traders a sense regarding whether the trend is up or down, while also identifying potential support or resistance areas."
   ]
  },
  {
   "cell_type": "markdown",
   "id": "36f224d2",
   "metadata": {},
   "source": [
    "**Q.7.** Did the chapters final example use \"indirect\" importing? If so, how exactly do you do it?"
   ]
  },
  {
   "cell_type": "markdown",
   "id": "41a0e0ae",
   "metadata": {},
   "source": [
    "**Answer :**"
   ]
  },
  {
   "cell_type": "code",
   "execution_count": null,
   "id": "5d6d407d",
   "metadata": {},
   "outputs": [],
   "source": []
  }
 ],
 "metadata": {
  "kernelspec": {
   "display_name": "Python 3",
   "language": "python",
   "name": "python3"
  },
  "language_info": {
   "codemirror_mode": {
    "name": "ipython",
    "version": 3
   },
   "file_extension": ".py",
   "mimetype": "text/x-python",
   "name": "python",
   "nbconvert_exporter": "python",
   "pygments_lexer": "ipython3",
   "version": "3.8.8"
  }
 },
 "nbformat": 4,
 "nbformat_minor": 5
}
