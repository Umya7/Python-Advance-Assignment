{
 "cells": [
  {
   "cell_type": "markdown",
   "id": "979034c2",
   "metadata": {},
   "source": [
    "## Assignment 2"
   ]
  },
  {
   "cell_type": "markdown",
   "id": "4bf57875",
   "metadata": {},
   "source": [
    "**Q.1.** What is the relationship between classes and modules?"
   ]
  },
  {
   "cell_type": "markdown",
   "id": "dce22cfb",
   "metadata": {},
   "source": [
    "**Answer :-**"
   ]
  },
  {
   "cell_type": "markdown",
   "id": "2ed9709b",
   "metadata": {},
   "source": [
    "Relationship between Classes & Modules is :\n",
    "    \n",
    "* **Class :**\n",
    "    \n",
    "    - A Class is like an object constructor, or a \"blueprint\" for creating objects.\n",
    "    - A class can be instantiated.\n",
    "    - Class can hold its state (by keeping track of instance variables)\n",
    "    - Class be duplicated as many times as you want by creating objects(instances)\n",
    "\n",
    "* **Module :**\n",
    "\n",
    "    - A module is a file containing Python definitions and statements. The file name is the module name with \n",
    "       the suffix .py appended. Within a module, the module’s name (as a string) is available as the value of \n",
    "       the global variable `__name__`. \n",
    "    - Modules can be imported.\n",
    "    - Module methods can be included or extended into instance methods."
   ]
  },
  {
   "cell_type": "markdown",
   "id": "40132b55",
   "metadata": {},
   "source": [
    "**Q.2.** How do you make instances and classes?"
   ]
  },
  {
   "cell_type": "markdown",
   "id": "b8675180",
   "metadata": {},
   "source": [
    "**Answer :-**"
   ]
  },
  {
   "cell_type": "markdown",
   "id": "77fb5b60",
   "metadata": {},
   "source": [
    "**Instances :** To create instances of a class, we call the class using class name and pass in whatever arguments its `__init__` method accepts.\n",
    "\n",
    "**Example :**\n",
    "    \n",
    "```python        \n",
    "    objclass = ClasseA(2,4)\n",
    "    objclass is instance of class.\n",
    "```\n",
    "**Classes :** A class is a user-defined blueprint or prototype from which objects are created.\n",
    "\n",
    "**Example :**\n",
    "    \n",
    "```python\n",
    "    def classA:\n",
    "        pass\n",
    "```"
   ]
  },
  {
   "cell_type": "markdown",
   "id": "3b1da0a9",
   "metadata": {},
   "source": [
    "**Q.3.** Where and how should be class attributes created?"
   ]
  },
  {
   "cell_type": "markdown",
   "id": "e6296698",
   "metadata": {},
   "source": [
    "**Answer :-**"
   ]
  },
  {
   "cell_type": "markdown",
   "id": "b7c5e866",
   "metadata": {},
   "source": [
    "Class attributes are created directly in the class and shared by objects of the class.\n",
    "\n",
    "**Example :**\n",
    "```python\n",
    "class Student:\n",
    "    class_teacher = 'Umesh' # class attribute\n",
    "    \n",
    "    def __init__(self, name, roll_no): # to bind attributes to class when object is created\n",
    "        self.name = name \n",
    "        self.roll_no = roll_no\n",
    "    \n",
    "    def __str__(self):\n",
    "        return f\"This is {self.name} (an instance of a class Student)\"\n",
    "    \n",
    "student1 = Student(\"Vikas Verma\",25)  \n",
    "\n",
    "print(student1.class_teacher)\n",
    "```\n",
    "Umesh"
   ]
  },
  {
   "cell_type": "markdown",
   "id": "1df22d76",
   "metadata": {},
   "source": [
    "**Q.4.** Where and how are instance attributes created?"
   ]
  },
  {
   "cell_type": "markdown",
   "id": "b922992b",
   "metadata": {},
   "source": [
    "**Answer :-**"
   ]
  },
  {
   "cell_type": "markdown",
   "id": "4d9d3b27",
   "metadata": {},
   "source": [
    "Defined in the constructor, directly inside a class instance attributes are created using self parameter.\n",
    "\n",
    "**Example :**\n",
    "```python\n",
    "class Student:\n",
    "    def __init__(self, name, roll_no): # to bind attributes to class when object is created\n",
    "        self.name = name \n",
    "        self.roll_no = roll_no\n",
    "    \n",
    "    def __str__(self):\n",
    "        return f\"This is {self.name} (an instance of a class Student)\"\n",
    "    \n",
    "student1 = Student(\"Vikas Verma\", 27)  \n",
    "\n",
    "print(student1.name) # attributes are accessed by objects\n",
    "print(student1.roll_no)\n",
    "```\n",
    "Vikas Verma\n",
    "\n",
    "27"
   ]
  },
  {
   "cell_type": "markdown",
   "id": "4c3049a3",
   "metadata": {},
   "source": [
    "**Q.5.** What does the term \"self\" in a Python class mean?"
   ]
  },
  {
   "cell_type": "markdown",
   "id": "59c941ec",
   "metadata": {},
   "source": [
    "**Answer :-**"
   ]
  },
  {
   "cell_type": "markdown",
   "id": "6e854c55",
   "metadata": {},
   "source": [
    "The `self` parameter is a reference to the current instance of the class, and is used to access variables that belongs to the class. It does not have to be named `self`, you can call it whatever you like, but it has to be the first parameter of any function in the class."
   ]
  },
  {
   "cell_type": "markdown",
   "id": "0ba3b81f",
   "metadata": {},
   "source": [
    "**Q.6.** How does a Python class handle operator overloading?"
   ]
  },
  {
   "cell_type": "markdown",
   "id": "2b910b18",
   "metadata": {},
   "source": [
    "**Answer :-**"
   ]
  },
  {
   "cell_type": "markdown",
   "id": "327ce827",
   "metadata": {},
   "source": [
    "Operator Overloading means giving extended meaning beyond their predefined operational meaning.\n",
    "For example operator + is used to add two integers as well as join two strings and merge two lists.\n",
    "It is achievable because ‘+’ operator is overloaded by int class and str class.\n",
    "\n",
    "**Example :**\n",
    "```python\n",
    "# + and * operator is used for different purpose\n",
    "\n",
    "print(3 + 5)\n",
    " \n",
    "# concatenate two strings\n",
    "print(\"ABC\" + \"XYZ\")\n",
    " \n",
    "# Product two numbers\n",
    "print(12 * 4)\n",
    " \n",
    "# Repeat the String\n",
    "print(\"Umesh\" * 3)\n",
    "```\n",
    "8\\\n",
    "ABCXYZ\\\n",
    "48\\\n",
    "UmeshUmeshUmesh"
   ]
  },
  {
   "cell_type": "markdown",
   "id": "5f5cdb81",
   "metadata": {},
   "source": [
    "**Q.7.** When do you consider allowing operator overloading of your classes?"
   ]
  },
  {
   "cell_type": "markdown",
   "id": "1c74d6e4",
   "metadata": {},
   "source": [
    "**Answer :-**"
   ]
  },
  {
   "cell_type": "markdown",
   "id": "cd04f3ec",
   "metadata": {},
   "source": [
    "Let's assume we have an object called string1 which is a string object as defined below.\\\n",
    "Now, When we try to add a string to this string object, the compiler will throw an error.\\\n",
    "This is because the compiler doesn't know how to add them."
   ]
  },
  {
   "cell_type": "markdown",
   "id": "4aca7711",
   "metadata": {},
   "source": [
    "**Example :**"
   ]
  },
  {
   "cell_type": "code",
   "execution_count": 1,
   "id": "5e5f5c93",
   "metadata": {},
   "outputs": [
    {
     "ename": "TypeError",
     "evalue": "unsupported operand type(s) for +: 'String' and 'str'",
     "output_type": "error",
     "traceback": [
      "\u001b[1;31m---------------------------------------------------------------------------\u001b[0m",
      "\u001b[1;31mTypeError\u001b[0m                                 Traceback (most recent call last)",
      "\u001b[1;32m<ipython-input-1-daea218ccbc5>\u001b[0m in \u001b[0;36m<module>\u001b[1;34m\u001b[0m\n\u001b[0;32m      9\u001b[0m \u001b[1;33m\u001b[0m\u001b[0m\n\u001b[0;32m     10\u001b[0m \u001b[1;31m# concatenate String object and a string\u001b[0m\u001b[1;33m\u001b[0m\u001b[1;33m\u001b[0m\u001b[1;33m\u001b[0m\u001b[0m\n\u001b[1;32m---> 11\u001b[1;33m \u001b[0mprint\u001b[0m\u001b[1;33m(\u001b[0m\u001b[0mstring1\u001b[0m \u001b[1;33m+\u001b[0m\u001b[1;34m' World'\u001b[0m\u001b[1;33m)\u001b[0m\u001b[1;33m\u001b[0m\u001b[1;33m\u001b[0m\u001b[0m\n\u001b[0m",
      "\u001b[1;31mTypeError\u001b[0m: unsupported operand type(s) for +: 'String' and 'str'"
     ]
    }
   ],
   "source": [
    "# declare our own string class\n",
    "class String:\n",
    "    def __init__(self, string):\n",
    "            self.string = string         \n",
    "    def __repr__(self):\n",
    "        return 'Object: {}'.format(self.string)\n",
    "\n",
    "string1 = String('Hello')    \n",
    "\n",
    "# concatenate String object and a string\n",
    "print(string1 +' World')"
   ]
  },
  {
   "cell_type": "markdown",
   "id": "0b9a88de",
   "metadata": {},
   "source": [
    "This error can be avoided by adding the add method to the String class.\\\n",
    "This way, We are overloading the + operator to concatenate a string object with a string."
   ]
  },
  {
   "cell_type": "code",
   "execution_count": 2,
   "id": "d08af5f5",
   "metadata": {},
   "outputs": [
    {
     "name": "stdout",
     "output_type": "stream",
     "text": [
      "Hello World\n"
     ]
    }
   ],
   "source": [
    "# declare our own string class\n",
    "class String:\n",
    "    def __init__(self, string):\n",
    "            self.string = string         \n",
    "                \n",
    "    def __add__(self, other):\n",
    "          return self.string + other\n",
    "            \n",
    "    def __repr__(self):\n",
    "        return 'Object: {}'.format(self.string)\n",
    "\n",
    "string1 = String('Hello')    \n",
    "\n",
    "# concatenate String object and a string\n",
    "print(string1 +' World')"
   ]
  },
  {
   "cell_type": "markdown",
   "id": "97316bd0",
   "metadata": {},
   "source": [
    "**Q.8.** What is the most popular form of operator overloading?"
   ]
  },
  {
   "cell_type": "markdown",
   "id": "8ce031fe",
   "metadata": {},
   "source": [
    "**Answer :-**"
   ]
  },
  {
   "cell_type": "markdown",
   "id": "f5a9bd59",
   "metadata": {},
   "source": [
    "The most popular form of operator overloading is `_add_` operator.\\\n",
    "The `_add_` operator also known as the magic function."
   ]
  },
  {
   "cell_type": "markdown",
   "id": "2b29764b",
   "metadata": {},
   "source": [
    "**Q.9.** What are the two most important concepts to grasp in order to comprehend Python OOP code?"
   ]
  },
  {
   "cell_type": "markdown",
   "id": "1db275bf",
   "metadata": {},
   "source": [
    "**Answer :-**"
   ]
  },
  {
   "cell_type": "markdown",
   "id": "b73c9922",
   "metadata": {},
   "source": [
    "The two most important concepts to grasp in order to comprehend Python OOP code is ;\n",
    "* Inheritance\n",
    "*Polymorphism"
   ]
  }
 ],
 "metadata": {
  "kernelspec": {
   "display_name": "Python 3",
   "language": "python",
   "name": "python3"
  },
  "language_info": {
   "codemirror_mode": {
    "name": "ipython",
    "version": 3
   },
   "file_extension": ".py",
   "mimetype": "text/x-python",
   "name": "python",
   "nbconvert_exporter": "python",
   "pygments_lexer": "ipython3",
   "version": "3.8.8"
  }
 },
 "nbformat": 4,
 "nbformat_minor": 5
}
