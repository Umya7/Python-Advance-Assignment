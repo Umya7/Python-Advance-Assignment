{
 "cells": [
  {
   "cell_type": "markdown",
   "id": "4ee682be",
   "metadata": {},
   "source": [
    "## Assignment 1"
   ]
  },
  {
   "cell_type": "markdown",
   "id": "8ad8cfa5",
   "metadata": {},
   "source": [
    "**Q.1.** What is the purpose of Python&#39;s OOP?"
   ]
  },
  {
   "cell_type": "markdown",
   "id": "088b2559",
   "metadata": {},
   "source": [
    "**Answer :-**"
   ]
  },
  {
   "cell_type": "markdown",
   "id": "2d6ae36e",
   "metadata": {},
   "source": [
    "Purpose of Python's OOP is :\n",
    "\n",
    "* Provides a clear program structure and a clean code\n",
    "\n",
    "* Facilitates easy maintenance and modification of existing code.\n",
    "\n",
    "* Since the class is sharable, the code can be reused.\n",
    "\n",
    "* Since the class is sharable, the code can be reused and many other such Advantages."
   ]
  },
  {
   "cell_type": "markdown",
   "id": "8088b6dd",
   "metadata": {},
   "source": [
    "**Q.2.** Where does an inheritance search look for an attribute?"
   ]
  },
  {
   "cell_type": "markdown",
   "id": "5b2e2d79",
   "metadata": {},
   "source": [
    "**Answer :-**"
   ]
  },
  {
   "cell_type": "markdown",
   "id": "e3617b1d",
   "metadata": {},
   "source": [
    "It searches from bottom to top looking for the lowest occurrence of an attribute name."
   ]
  },
  {
   "cell_type": "markdown",
   "id": "5dbb6d88",
   "metadata": {},
   "source": [
    "**Q.3.** How do you distinguish between a class object and an instance object?"
   ]
  },
  {
   "cell_type": "markdown",
   "id": "793702c9",
   "metadata": {},
   "source": [
    "**Answer :-**"
   ]
  },
  {
   "cell_type": "markdown",
   "id": "9774afb0",
   "metadata": {},
   "source": [
    "Distinguish between a Class Object & an Instance Object is :\n",
    "    \n",
    "* **Class Object :** When we create a class , a class object is created.The class name itself is class object. we can access class variable using this class name\n",
    "\n",
    "    - **Example :**\n",
    "```python\n",
    "        class test :\n",
    "            a = 15\n",
    "            def __init__(self, c, d)\n",
    "                self.c = c\n",
    "                self.d = d\n",
    "            print(test.a)\n",
    "```\n",
    "Using this `text.a` we can access its class variables. We can have only one class objects for a class.\n",
    "\n",
    "\n",
    "* **Instance Object :** When we access class with paranthesis like `test()`, this will creat a instance of a class. we can have n numbers of instance objects for same class.\n",
    "\n",
    "    - **Example :**\n",
    "```python\n",
    "        #Class Object\n",
    "        \n",
    "        class test :\n",
    "            a = 15\n",
    "            def __init__(self, c, d):\n",
    "                self.c = c\n",
    "                self.d = d\n",
    "                \n",
    "        print(test.a)\n",
    "```      \n",
    "10\n",
    "\n",
    "```python\n",
    "#Instance Object\n",
    "\n",
    "instObj = test(4, 5)\n",
    "instObj.c\n",
    "```\n",
    "    4"
   ]
  },
  {
   "cell_type": "markdown",
   "id": "4c7320c9",
   "metadata": {},
   "source": [
    "**Q.4.** What makes the first argument in a class’s method function special?"
   ]
  },
  {
   "cell_type": "markdown",
   "id": "8b87eac5",
   "metadata": {},
   "source": [
    "**Answer :-**"
   ]
  },
  {
   "cell_type": "markdown",
   "id": "c47ed56d",
   "metadata": {},
   "source": [
    "The keyword `self` represents the instance of a class and binds the attributes with the given arguments."
   ]
  },
  {
   "cell_type": "markdown",
   "id": "1b05fc04",
   "metadata": {},
   "source": [
    "**Q.5.** What is the purpose of the __ init __ method?"
   ]
  },
  {
   "cell_type": "markdown",
   "id": "035ea739",
   "metadata": {},
   "source": [
    "**Answer :-**"
   ]
  },
  {
   "cell_type": "markdown",
   "id": "ba6df2c1",
   "metadata": {},
   "source": [
    "**`__init__`** is a reseved method in python classes. This method called when an object is created from the class and it allow the class to initialize the attributes of a class."
   ]
  },
  {
   "cell_type": "markdown",
   "id": "0e144f2a",
   "metadata": {},
   "source": [
    "**Q.6.** What is the process for creating a class instance?"
   ]
  },
  {
   "cell_type": "markdown",
   "id": "603957d7",
   "metadata": {},
   "source": [
    "**Answer :-**"
   ]
  },
  {
   "cell_type": "markdown",
   "id": "5b961708",
   "metadata": {},
   "source": [
    "Step to create instances of a class is :\n",
    "\n",
    "* Create a class\n",
    "* call the class using class name and assign it to a variable (object variable).\n",
    "* Pass in whatever arguments its init method accepts.\n",
    "\n",
    " * **Example :**\n",
    "        \n",
    "```python      \n",
    "    class Employee:\n",
    "    empCount = 0\n",
    "\n",
    "    def __init__(self, name, salary):\n",
    "        self.name = name\n",
    "        self.salary = salary\n",
    "        Employee.empCount += 1\n",
    "        \n",
    "objClass = Employee('Kumar','120000')\n",
    "```"
   ]
  },
  {
   "cell_type": "markdown",
   "id": "376801a9",
   "metadata": {},
   "source": [
    "**Q.7.** What is the process for creating a class?"
   ]
  },
  {
   "cell_type": "markdown",
   "id": "45c382db",
   "metadata": {},
   "source": [
    "**Answer :-**"
   ]
  },
  {
   "cell_type": "markdown",
   "id": "e28af37e",
   "metadata": {},
   "source": [
    "Steps to create class is :\n",
    "    \n",
    "* Class definition starts with keyword class\n",
    "* Follwed by classname and ':'\n",
    "* Class will have doc string\n",
    "* Class should have at least one statements.\n",
    "    * **Example :**\n",
    "```python\n",
    "class MyTestClass:\n",
    "    '''This is a docstring. I have created a new class'''\n",
    "    pass\n",
    "```"
   ]
  },
  {
   "cell_type": "markdown",
   "id": "ccfb08ea",
   "metadata": {},
   "source": [
    "**Q.8.** How would you define the superclasses of a class?"
   ]
  },
  {
   "cell_type": "markdown",
   "id": "8b72f2ee",
   "metadata": {},
   "source": [
    "**Answer :-**"
   ]
  },
  {
   "cell_type": "markdown",
   "id": "6d6e701d",
   "metadata": {},
   "source": [
    "The class from which a class inherits is called the parent or superclass."
   ]
  }
 ],
 "metadata": {
  "kernelspec": {
   "display_name": "Python 3",
   "language": "python",
   "name": "python3"
  },
  "language_info": {
   "codemirror_mode": {
    "name": "ipython",
    "version": 3
   },
   "file_extension": ".py",
   "mimetype": "text/x-python",
   "name": "python",
   "nbconvert_exporter": "python",
   "pygments_lexer": "ipython3",
   "version": "3.8.8"
  }
 },
 "nbformat": 4,
 "nbformat_minor": 5
}
