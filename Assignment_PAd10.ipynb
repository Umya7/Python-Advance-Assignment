{
 "cells": [
  {
   "cell_type": "markdown",
   "id": "cdb16d06",
   "metadata": {},
   "source": [
    "## Assignment 10"
   ]
  },
  {
   "cell_type": "markdown",
   "id": "f08447bd",
   "metadata": {},
   "source": [
    "**Q.1.** What is the difference between `__getattr__` and `__getattribute__`?"
   ]
  },
  {
   "cell_type": "markdown",
   "id": "496a14be",
   "metadata": {},
   "source": [
    "**Answer :**"
   ]
  },
  {
   "cell_type": "markdown",
   "id": "6c5a59da",
   "metadata": {},
   "source": [
    "**`__getattr__`** it is called at all times; it has low priority.\n",
    "\n",
    "**`__getattribute__`** gets called whether there is attribute or not; it has high priority.\n",
    "\n",
    "**Example :**"
   ]
  },
  {
   "cell_type": "code",
   "execution_count": 1,
   "id": "56c0b4e9",
   "metadata": {},
   "outputs": [
    {
     "name": "stdout",
     "output_type": "stream",
     "text": [
      "Mumbai\n",
      "hello\n"
     ]
    }
   ],
   "source": [
    "#example of __getattr__\n",
    "class Sample:\n",
    "    def __init__(self, address):\n",
    "        self.address = address\n",
    "    \n",
    "    def __getattr__(self, name):\n",
    "        return name.lower()\n",
    "    \n",
    "s = Sample('Mumbai')\n",
    "print(s.address) # existing attribute\n",
    "print(s.Hello) # Hello is non defined in class"
   ]
  },
  {
   "cell_type": "code",
   "execution_count": 2,
   "id": "798db030",
   "metadata": {},
   "outputs": [
    {
     "name": "stdout",
     "output_type": "stream",
     "text": [
      "New Value\n"
     ]
    }
   ],
   "source": [
    "#example of __getattribute__\n",
    "class Dummy():\n",
    "\n",
    "    def __getattribute__(self, attr):\n",
    "        return 'New Value'\n",
    "\n",
    "d = Dummy()\n",
    "d.value = \"Old value\"\n",
    "print(d.value)  # \"YOU SEE ME?\""
   ]
  },
  {
   "cell_type": "markdown",
   "id": "7c8195c4",
   "metadata": {},
   "source": [
    "**Q.2.** What is the difference between properties and descriptors?"
   ]
  },
  {
   "cell_type": "markdown",
   "id": "854dd2a1",
   "metadata": {},
   "source": [
    "**Answer :**"
   ]
  },
  {
   "cell_type": "markdown",
   "id": "7e39a49d",
   "metadata": {},
   "source": [
    "The differences between Properties and Descriptors is :\n",
    "   * **`Properties`** : With Properties we can bind getter, setter and delete functions together with an attribute name, using the built-in property function or @property decorator. When we do this, each reference to an attribute looks like simple, direct access, but involes the appropriate function of the object.\n",
    "   * **`Descriptor`** : With Descriptor we can bind getter, setter and delete functions into a seperate class. we then assign an object of this class to the attribute name in our main class. When we do this, each reference to an attribute looks like simple, direct access but invokes an appropriate function of descriptor object."
   ]
  },
  {
   "cell_type": "markdown",
   "id": "f8a32a08",
   "metadata": {},
   "source": [
    "**Q.3.** What are the key differences in functionality between `__getattr__` and `__getattribute__`, as well as\n",
    "properties and descriptors?"
   ]
  },
  {
   "cell_type": "markdown",
   "id": "d449b513",
   "metadata": {},
   "source": [
    "**Answer :**"
   ]
  },
  {
   "cell_type": "markdown",
   "id": "2a76dcb2",
   "metadata": {},
   "source": [
    "The Key Differences between `__getattr__`, `__getattribute__`, Properties and Descriptors are :\n",
    "* **`__getattr__` :** Python will call this method whenever you request an attribute that hasn't already been defined.\n",
    "* **`__getattribute__` :** This method will invoked before looking at the actual attributes on the object. Means, if we have `__getattribute__` method in our class, python invokes this method for every attribute regardless whether it exists or not.\n",
    "* **Properties :** With Properties we can bind getter, setter and delete functions together with an attribute name, using the built-in property function or @property decorator. When we do this, each reference to an attribute looks like simple, direct access, but involes the appropriate function of the object.\n",
    "* **Descriptor :** With Descriptor we can bind getter, setter and delete functions into a seperate class. we then assign an object of this class to the attribute name in our main class. When we do this, each reference to an attribute looks like simple, direct access but invokes an appropriate function of descriptor object."
   ]
  }
 ],
 "metadata": {
  "kernelspec": {
   "display_name": "Python 3",
   "language": "python",
   "name": "python3"
  },
  "language_info": {
   "codemirror_mode": {
    "name": "ipython",
    "version": 3
   },
   "file_extension": ".py",
   "mimetype": "text/x-python",
   "name": "python",
   "nbconvert_exporter": "python",
   "pygments_lexer": "ipython3",
   "version": "3.8.8"
  }
 },
 "nbformat": 4,
 "nbformat_minor": 5
}
