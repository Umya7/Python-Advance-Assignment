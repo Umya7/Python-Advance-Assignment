{
 "cells": [
  {
   "cell_type": "markdown",
   "id": "db78aa8d",
   "metadata": {},
   "source": [
    "## Assignment 3"
   ]
  },
  {
   "cell_type": "markdown",
   "id": "abd2b162",
   "metadata": {},
   "source": [
    "**Q.1.** What is the concept of an abstract superclass?"
   ]
  },
  {
   "cell_type": "markdown",
   "id": "42f76b42",
   "metadata": {},
   "source": [
    "**Answer :**"
   ]
  },
  {
   "cell_type": "markdown",
   "id": "8d9d0d9e",
   "metadata": {},
   "source": [
    "An abstract class/superclass can be considered as a blueprint for other classes. It allows you to create a set of methods that must be created within any child classes built from the abstract class. A class which contains one or more abstract methods is called an abstract class.\n",
    "\n",
    "Whereas an abstract method is a method that has a declaration but does not have an implementation.\n",
    "\n",
    "**Example :**\n",
    "```python\n",
    "from abc import ABC, abstractmethod\n",
    "class Polygon(ABC): # Abstract Class\n",
    "    @abstractmethod\n",
    "    def noofsides(self): # Abstract Method\n",
    "        pass\n",
    "class Hexagon(Polygon):\n",
    "    def noofsides(self):  # overriding abstract method in child class Hexagon\n",
    "        print(\"I have 6 sides\")\n",
    "class Pentagon(Polygon):\n",
    "    def noofsides(self): # overriding abstract method in child class Pentagon\n",
    "        print(\"I have 5 sides\")\n",
    "```"
   ]
  },
  {
   "cell_type": "markdown",
   "id": "e7efab2f",
   "metadata": {},
   "source": [
    "**Q.2.** What happens when a class statement's top level contains a basic assignment statement?"
   ]
  },
  {
   "cell_type": "markdown",
   "id": "756ad8c1",
   "metadata": {},
   "source": [
    "**Answer :**"
   ]
  },
  {
   "cell_type": "markdown",
   "id": "0524820a",
   "metadata": {},
   "source": [
    "When a Class statement's top level contains a basic assignment statement, its usually treated as a class attribute or class level variable.\n",
    "\n",
    "Where as assignment statements inside methods are treated as instance attributes or local attributes.\n",
    "\n",
    "When an instance of a class is created a single copy of class attributes is maintained and shared to all instances of class. where as each instance object maintains its own copy of instance variables.\n",
    "\n",
    "**Example :**\n",
    "```python\n",
    "class Person:\n",
    "    species = 'Homesapiens' # class attribute\n",
    "    def __init__(self, name, gender):\n",
    "        \n",
    "        self.name = name # instance attributes\n",
    "        self.gender = gender\n",
    "```"
   ]
  },
  {
   "cell_type": "markdown",
   "id": "6f66a62d",
   "metadata": {},
   "source": [
    "**Q.3.** Why does a class need to manually call a superclass's `__init__` method?"
   ]
  },
  {
   "cell_type": "markdown",
   "id": "45cb1ade",
   "metadata": {},
   "source": [
    "**Answer :**"
   ]
  },
  {
   "cell_type": "markdown",
   "id": "e831a473",
   "metadata": {},
   "source": [
    "If a child class has `__init__` method, then it will not inherit the `__init__` method of the parent class.\\\n",
    "In other words the `__init__` method of the child class overrides the `__init__` method of the parent class.\\\n",
    "So, We have to manually call a parent superclass's `__init__` using `super()` method.\n",
    "\n",
    "**Example :**"
   ]
  },
  {
   "cell_type": "code",
   "execution_count": 1,
   "id": "6339e086",
   "metadata": {},
   "outputs": [
    {
     "name": "stdout",
     "output_type": "stream",
     "text": [
      "{'name': 'Umesh', 'age': 28, 'salary': 20000}\n"
     ]
    }
   ],
   "source": [
    "class Person:\n",
    "    def __init__(self, name, age):\n",
    "        self.name = name\n",
    "        self.age = age\n",
    "        \n",
    "class Employee(Person):\n",
    "    def __init__(self,name, age, salary):\n",
    "        super().__init__(name, age)\n",
    "        self.salary = salary\n",
    "        \n",
    "emp_1 = Employee('Umesh', 28, 20000)\n",
    "\n",
    "print(emp_1.__dict__)"
   ]
  },
  {
   "cell_type": "markdown",
   "id": "2f4c06f1",
   "metadata": {},
   "source": [
    "**Q.4.** How can you augment, instead of completely replacing, an inherited method?"
   ]
  },
  {
   "cell_type": "markdown",
   "id": "5969f60b",
   "metadata": {},
   "source": [
    "**Answer :**"
   ]
  },
  {
   "cell_type": "markdown",
   "id": "7fcba373",
   "metadata": {},
   "source": [
    "**super() :** `super()` method can be used to augment, instead of completely replacing, an inherited method.\n",
    "\n",
    "**Example :**"
   ]
  },
  {
   "cell_type": "code",
   "execution_count": 2,
   "id": "394f4f5d",
   "metadata": {},
   "outputs": [
    {
     "name": "stdout",
     "output_type": "stream",
     "text": [
      "{'name': 'Umesh', 'gender': 'Male', 'salary': 25000}\n"
     ]
    }
   ],
   "source": [
    "class Person:\n",
    "    def __init__(self, name, gender):\n",
    "        self.name = name\n",
    "        self.gender = gender\n",
    "        \n",
    "class Employee(Person):\n",
    "    def __init__(self,name, gender, salary):\n",
    "        super().__init__(name, gender) \n",
    "        self.salary = salary\n",
    "        \n",
    "emp_1 = Employee('Umesh','Male', 25000)\n",
    "\n",
    "print(emp_1.__dict__)"
   ]
  },
  {
   "cell_type": "markdown",
   "id": "701e4224",
   "metadata": {},
   "source": [
    "**Q.5.** How is the local scope of a class different from that of a function?"
   ]
  },
  {
   "cell_type": "markdown",
   "id": "bc8631ea",
   "metadata": {},
   "source": [
    "**Answer :**"
   ]
  },
  {
   "cell_type": "markdown",
   "id": "347a6107",
   "metadata": {},
   "source": [
    "In class, if the variable is declared without self then it is accessible within that function only, kinda local variable. However if it declared using self like self.variable_name = 'somevalue', then it is accessible via any object but not via the class name.\n",
    "\n",
    "Whereas, if a variable is declared within a function then it is a local variable and is accessible to that function only.\n",
    "\n",
    "**Example :**"
   ]
  },
  {
   "cell_type": "code",
   "execution_count": 3,
   "id": "d7c58475",
   "metadata": {},
   "outputs": [
    {
     "name": "stdout",
     "output_type": "stream",
     "text": [
      "you're name is Human Being\n",
      "Name varible is not available outside hello function scope\n",
      "HomeSapines\n",
      "HomeSapines\n"
     ]
    }
   ],
   "source": [
    "def hello(name):\n",
    "    name = name\n",
    "    print(f'you\\'re name is {name}')\n",
    "hello('Human Being')\n",
    "try:\n",
    "    name\n",
    "except NameError:\n",
    "    print('Name varible is not available outside hello function scope')\n",
    "\n",
    "class Person:\n",
    "    species = \"HomeSapines\"\n",
    "    def __init__(self):\n",
    "        pass\n",
    "print(Person.species) # Accessing species using class name\n",
    "Male = Person()\n",
    "print(Male.species) # Accessing species using inst"
   ]
  }
 ],
 "metadata": {
  "kernelspec": {
   "display_name": "Python 3",
   "language": "python",
   "name": "python3"
  },
  "language_info": {
   "codemirror_mode": {
    "name": "ipython",
    "version": 3
   },
   "file_extension": ".py",
   "mimetype": "text/x-python",
   "name": "python",
   "nbconvert_exporter": "python",
   "pygments_lexer": "ipython3",
   "version": "3.8.8"
  }
 },
 "nbformat": 4,
 "nbformat_minor": 5
}
