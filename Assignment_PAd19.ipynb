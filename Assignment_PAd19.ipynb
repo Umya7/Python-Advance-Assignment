{
 "cells": [
  {
   "cell_type": "markdown",
   "id": "8f9ad07f",
   "metadata": {},
   "source": [
    "## Assignment 19"
   ]
  },
  {
   "cell_type": "markdown",
   "id": "31d3e005",
   "metadata": {},
   "source": [
    "**Q.1.** Define the relationship between a class and its instances. Is it a one-to-one or a one-to-many\n",
    "partnership, for example?"
   ]
  },
  {
   "cell_type": "markdown",
   "id": "5ed3a061",
   "metadata": {},
   "source": [
    "**Answer :**"
   ]
  },
  {
   "cell_type": "markdown",
   "id": "71a69476",
   "metadata": {},
   "source": [
    "Class is abstraction of an real world entity. It consists of attributes and methods. Instance is an object of a class. It one to many relationship between class and its instatnces.\n",
    "\n",
    "**Example :**\n",
    "`a` and `b` are distinct instances of the list class/type even though they contain the same sequence of integers"
   ]
  },
  {
   "cell_type": "code",
   "execution_count": 1,
   "id": "38937be5",
   "metadata": {},
   "outputs": [
    {
     "data": {
      "text/plain": [
       "False"
      ]
     },
     "execution_count": 1,
     "metadata": {},
     "output_type": "execute_result"
    }
   ],
   "source": [
    "a = list((1, 2, 3))\n",
    "b = list((1, 2, 3))\n",
    "a is b"
   ]
  },
  {
   "cell_type": "code",
   "execution_count": 2,
   "id": "afeca3ca",
   "metadata": {},
   "outputs": [
    {
     "data": {
      "text/plain": [
       "True"
      ]
     },
     "execution_count": 2,
     "metadata": {},
     "output_type": "execute_result"
    }
   ],
   "source": [
    "isinstance(a, list)"
   ]
  },
  {
   "cell_type": "code",
   "execution_count": 3,
   "id": "3db1dffe",
   "metadata": {},
   "outputs": [
    {
     "data": {
      "text/plain": [
       "True"
      ]
     },
     "execution_count": 3,
     "metadata": {},
     "output_type": "execute_result"
    }
   ],
   "source": [
    "isinstance(b, list)"
   ]
  },
  {
   "cell_type": "markdown",
   "id": "f2ebdd09",
   "metadata": {},
   "source": [
    "**Q.2.** What kind of data is held only in an instance?"
   ]
  },
  {
   "cell_type": "markdown",
   "id": "1f350d29",
   "metadata": {},
   "source": [
    "**Answer :**"
   ]
  },
  {
   "cell_type": "markdown",
   "id": "d4aba5e2",
   "metadata": {},
   "source": [
    "Instance objects contains the Instance variables which are specific to that specific Instance object."
   ]
  },
  {
   "cell_type": "markdown",
   "id": "03151628",
   "metadata": {},
   "source": [
    "**Q.3.** What kind of knowledge is stored in a class?"
   ]
  },
  {
   "cell_type": "markdown",
   "id": "d7f6f572",
   "metadata": {},
   "source": [
    "**Answer :**"
   ]
  },
  {
   "cell_type": "markdown",
   "id": "13b50cca",
   "metadata": {},
   "source": [
    "Class creates a user-defined data structure, which holds its own data members and member functions, which can be accessed and used by creating an instance of that class. A class is like a blueprint for an object."
   ]
  },
  {
   "cell_type": "markdown",
   "id": "bb842254",
   "metadata": {},
   "source": [
    "**Q.4.** What exactly is a method, and how is it different from a regular function?"
   ]
  },
  {
   "cell_type": "markdown",
   "id": "bb693654",
   "metadata": {},
   "source": [
    "**Answer :**"
   ]
  },
  {
   "cell_type": "markdown",
   "id": "a7b8fdd8",
   "metadata": {},
   "source": [
    "The methods with a class can be used to access the insatnce variables of its instance. So,the object's state can be modified by its method. Function can't access the attributes of an instance of a class or can't modify the state of the object."
   ]
  },
  {
   "cell_type": "markdown",
   "id": "576f5895",
   "metadata": {},
   "source": [
    "**Q.5.** Is inheritance supported in Python, and if so, what is the syntax?"
   ]
  },
  {
   "cell_type": "markdown",
   "id": "fff1cd90",
   "metadata": {},
   "source": [
    "**Answer :**"
   ]
  },
  {
   "cell_type": "markdown",
   "id": "f82339c7",
   "metadata": {},
   "source": [
    "Yes, Python supports inheritance. The Types of Inheritence Supported by Python are :\n",
    "\n",
    "   - Simple Inheritence\n",
    "   - Multiple Inheritence\n",
    "   - Multilevel lInheritence\n",
    "   - Hybrid Inheritence\n",
    "   - Hierracial Inheritence"
   ]
  },
  {
   "cell_type": "code",
   "execution_count": 4,
   "id": "f30c601e",
   "metadata": {},
   "outputs": [],
   "source": [
    "class Person:\n",
    "    def __init__(self, fname, lname):\n",
    "        self.first_name = fname\n",
    "        self.last_name = lname\n",
    "class Student(Person):\n",
    "    pass"
   ]
  },
  {
   "cell_type": "markdown",
   "id": "c0d26e85",
   "metadata": {},
   "source": [
    "**Q.6.** How much encapsulation (making instance or class variables private) does Python support?"
   ]
  },
  {
   "cell_type": "markdown",
   "id": "aa9c3ab9",
   "metadata": {},
   "source": [
    "**Answer :**"
   ]
  },
  {
   "cell_type": "markdown",
   "id": "e4fe9601",
   "metadata": {},
   "source": [
    "Encapsulation describes the idea of wrapping data and the methods that work on data within one unit. This puts restrictions on accessing variables and methods directly and can prevent the accidental modification of data. To prevent accidental change, an objects variable can only be changed by an objects method."
   ]
  },
  {
   "cell_type": "markdown",
   "id": "84666e84",
   "metadata": {},
   "source": [
    "**Q.7.** How do you distinguish between a class variable and an instance variable?"
   ]
  },
  {
   "cell_type": "markdown",
   "id": "a8855302",
   "metadata": {},
   "source": [
    "**Answer :**"
   ]
  },
  {
   "cell_type": "markdown",
   "id": "d6421101",
   "metadata": {},
   "source": [
    "The Class Attribute is available to all the instance objects of that class. whereas Instance Attributes are accessible only to the object or Instance of that class.\n",
    "\n",
    "A single copy of Class attributes is maintained by pvm at the class level. Whereas difference copies of instance attributes are maintained by pvm at objects/instance level."
   ]
  },
  {
   "cell_type": "markdown",
   "id": "b0f258a6",
   "metadata": {},
   "source": [
    "**Q.8.** When, if ever, can self be included in a class's method definitions?"
   ]
  },
  {
   "cell_type": "markdown",
   "id": "e4ef7681",
   "metadata": {},
   "source": [
    "**Answer :**"
   ]
  },
  {
   "cell_type": "markdown",
   "id": "baae3b6c",
   "metadata": {},
   "source": [
    "Yes, self can included in class method definations to access the instance variables inside class methods.\n"
   ]
  },
  {
   "cell_type": "markdown",
   "id": "a4f1c973",
   "metadata": {},
   "source": [
    "**Q.9.** What is the difference between the _ _add_ _ and the _ _radd_ _ methods?"
   ]
  },
  {
   "cell_type": "markdown",
   "id": "8575c57b",
   "metadata": {},
   "source": [
    "**Answer :**"
   ]
  },
  {
   "cell_type": "markdown",
   "id": "22a83e80",
   "metadata": {},
   "source": [
    "Entering **`__radd__`** Python will first try **`__add__()`**, and if that returns Not Implemented Python will check if the right-hand operand implements **`__radd__`**, and if it does, it will call **`__radd__()`** rather than raising a TypeError."
   ]
  },
  {
   "cell_type": "markdown",
   "id": "d5b4861f",
   "metadata": {},
   "source": [
    "**Q.10.** When is it necessary to use a reflection method? When do you not need it, even though you\n",
    "support the operation in question?"
   ]
  },
  {
   "cell_type": "markdown",
   "id": "eddb33c6",
   "metadata": {},
   "source": [
    "**Answer :**"
   ]
  },
  {
   "cell_type": "markdown",
   "id": "a04fa484",
   "metadata": {},
   "source": [
    "Reflection method we often encounter the requirement that a method in the executing object, or a variable in the calling object, or a field of the object should be assigned, while the method name or field name can not be determined when encoding the code, and need to be input in the form of passing strings through parameters."
   ]
  },
  {
   "cell_type": "markdown",
   "id": "f3cdbeae",
   "metadata": {},
   "source": [
    "**Q.11.** What is the _ _iadd_ _ method called?"
   ]
  },
  {
   "cell_type": "markdown",
   "id": "45ea954a",
   "metadata": {},
   "source": [
    "**Answer :**"
   ]
  },
  {
   "cell_type": "markdown",
   "id": "9ef0deb6",
   "metadata": {},
   "source": [
    "**`__iadd__`** method is called when we use implementation like **a+=b** which is **a.`__iadd__`(b)**."
   ]
  },
  {
   "cell_type": "markdown",
   "id": "4b1c5f86",
   "metadata": {},
   "source": [
    "**Q.12.** Is the _ _init_ _ method inherited by subclasses? What do you do if you need to customize its\n",
    "behavior within a subclass?"
   ]
  },
  {
   "cell_type": "markdown",
   "id": "d8d7fbad",
   "metadata": {},
   "source": [
    "**Answer :**"
   ]
  },
  {
   "cell_type": "markdown",
   "id": "81a8fe6a",
   "metadata": {},
   "source": [
    "Yes, **`__init__`** method will be inherited by subclasses. if we want to customize its behaviour within a subclass we can use `super()` method."
   ]
  }
 ],
 "metadata": {
  "kernelspec": {
   "display_name": "Python 3",
   "language": "python",
   "name": "python3"
  },
  "language_info": {
   "codemirror_mode": {
    "name": "ipython",
    "version": 3
   },
   "file_extension": ".py",
   "mimetype": "text/x-python",
   "name": "python",
   "nbconvert_exporter": "python",
   "pygments_lexer": "ipython3",
   "version": "3.8.8"
  }
 },
 "nbformat": 4,
 "nbformat_minor": 5
}
