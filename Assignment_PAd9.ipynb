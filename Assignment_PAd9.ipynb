{
 "cells": [
  {
   "cell_type": "markdown",
   "id": "7410bdd7",
   "metadata": {},
   "source": [
    "## Assignment 9"
   ]
  },
  {
   "cell_type": "markdown",
   "id": "53ad6008",
   "metadata": {},
   "source": [
    "**Q.1.** In Python 3.X, what are the names and functions of string object types?"
   ]
  },
  {
   "cell_type": "markdown",
   "id": "0fe8f84e",
   "metadata": {},
   "source": [
    "**Answer :**"
   ]
  },
  {
   "cell_type": "markdown",
   "id": "76a56cbd",
   "metadata": {},
   "source": [
    "**int , float , complex :** The numerical types.\n",
    "\n",
    "**bool :** The boolean type. True and False are the only boolean-type objects.\n",
    "\n",
    "**NoneType :** The “null” type; None is the only object that belongs to this type.\n",
    "\n",
    "**str :** The string type.\n",
    "\n",
    "**list :** The list type."
   ]
  },
  {
   "cell_type": "markdown",
   "id": "c40f91a9",
   "metadata": {},
   "source": [
    "**Q.2.** How do the string forms in Python 3.X vary in terms of operations?"
   ]
  },
  {
   "cell_type": "markdown",
   "id": "cb9d8dc9",
   "metadata": {},
   "source": [
    "**Answer :**"
   ]
  },
  {
   "cell_type": "markdown",
   "id": "390fb3c3",
   "metadata": {},
   "source": [
    "In Python3 default format of strings is Unicode Whereas in Pyton2 we need to explicitly mention Unicode value using **u**.\n",
    "\n",
    "**Example :**"
   ]
  },
  {
   "cell_type": "code",
   "execution_count": 1,
   "id": "68a993a5",
   "metadata": {},
   "outputs": [
    {
     "name": "stdout",
     "output_type": "stream",
     "text": [
      "105\n"
     ]
    }
   ],
   "source": [
    "u = 'Prajapati'\n",
    "print(ord(u[-1]))"
   ]
  },
  {
   "cell_type": "markdown",
   "id": "fde57d95",
   "metadata": {},
   "source": [
    "**Q.3.** In 3.X, how do you put non-ASCII Unicode characters in a string?"
   ]
  },
  {
   "cell_type": "markdown",
   "id": "72d139ba",
   "metadata": {},
   "source": [
    "**Answer :**"
   ]
  },
  {
   "cell_type": "markdown",
   "id": "29592256",
   "metadata": {},
   "source": [
    "As we know, there are only 127 ASCII characters in ascii table. It stores symbols, letters, whitespace characters, non printable characters, which are very less. So Python 3 has adopted unicode encoding of strings. for non ASCII u can get any value more than 127.\n",
    "\n",
    "**Example :**"
   ]
  },
  {
   "cell_type": "code",
   "execution_count": 2,
   "id": "6c5d1817",
   "metadata": {},
   "outputs": [
    {
     "name": "stdout",
     "output_type": "stream",
     "text": [
      "Prajapati©\n"
     ]
    }
   ],
   "source": [
    "p = 'Prajapati'\n",
    "\n",
    "p += chr(128)+chr(169)\n",
    "\n",
    "print(p)"
   ]
  },
  {
   "cell_type": "markdown",
   "id": "662b1b57",
   "metadata": {},
   "source": [
    "**Q.4.** In Python 3.X, what are the key differences between text-mode and binary-mode files?"
   ]
  },
  {
   "cell_type": "markdown",
   "id": "a3112831",
   "metadata": {},
   "source": [
    "**Answer :**"
   ]
  },
  {
   "cell_type": "markdown",
   "id": "ebdf3a16",
   "metadata": {},
   "source": [
    "The bits in text files represent characters, while the bits in binary files represent custom data.\n",
    "\n",
    "Binary files typically contain a sequence of bytes, or ordered groupings of eight bits."
   ]
  },
  {
   "cell_type": "markdown",
   "id": "a9464cc0",
   "metadata": {},
   "source": [
    "**Q.5.** How can you interpret a Unicode text file containing text encoded in a different encoding than\n",
    "your platform's default?"
   ]
  },
  {
   "cell_type": "markdown",
   "id": "9fc28d9a",
   "metadata": {},
   "source": [
    "**Answer :**"
   ]
  },
  {
   "cell_type": "markdown",
   "id": "963b2a7d",
   "metadata": {},
   "source": [
    "**`decode()`** is a method specified in Strings in Python.\n",
    "\n",
    "It accepts the encoding of the encoding string to decode it and returns the original string."
   ]
  },
  {
   "cell_type": "markdown",
   "id": "f94bd835",
   "metadata": {},
   "source": [
    "**Q.6.** What is the best way to make a Unicode text file in a particular encoding format?"
   ]
  },
  {
   "cell_type": "markdown",
   "id": "af756e1f",
   "metadata": {},
   "source": [
    "**Answer :**"
   ]
  },
  {
   "cell_type": "markdown",
   "id": "ecbe5b77",
   "metadata": {},
   "source": [
    "Use `str.encode()` and `file.write()` to make a Unicode text file in a particular encoding format, default encoding format is UTF-18.\n",
    "\n",
    "* **`str.encode(encoding)`** with encoding set to utf8 to encode str.\n",
    "* **`open(file, mode)`** to open a file with mode set to wb . wb writes to files in binary mode & preserves UTF-8format.\n",
    "* **`file.write(data)`** to write data to the file.\n",
    "\n",
    "**Example :**"
   ]
  },
  {
   "cell_type": "code",
   "execution_count": 3,
   "id": "d92a0352",
   "metadata": {},
   "outputs": [
    {
     "name": "stdout",
     "output_type": "stream",
     "text": [
      "b'\\xd1\\x83\\xd0\\xbb\\xd1\\x8b\\xd0\\xb1\\xd0\\xb0\\xd1\\x82\\xd1\\x8c\\xd1\\x81\\xd1\\x8f \\xd0\\x92\\xd0\\xbb\\xd0\\xb0\\xd0\\xb4\\xd0\\xb8\\xd0\\xbc\\xd0\\xb8\\xd1\\x80 \\xd0\\x9f\\xd1\\x83\\xd1\\x82\\xd0\\xb8\\xd0\\xbd'\n",
      "\n",
      "b'\\xd1\\x83\\xd0\\xbb\\xd1\\x8b\\xd0\\xb1\\xd0\\xb0\\xd1\\x82\\xd1\\x8c\\xd1\\x81\\xd1\\x8f \\xd0\\x92\\xd0\\xbb\\xd0\\xb0\\xd0\\xb4\\xd0\\xb8\\xd0\\xbc\\xd0\\xb8\\xd1\\x80 \\xd0\\x9f\\xd1\\x83\\xd1\\x82\\xd0\\xb8\\xd0\\xbd'\n"
     ]
    }
   ],
   "source": [
    "unicode_text = u\"улыбаться Владимир Путин\"\n",
    "encoded_unicode_text = unicode_text.encode(\"utf-8\")\n",
    "print(encoded_unicode_text,end=\"\\n\\n\")\n",
    "\n",
    "w_file = open(\"w_file.txt\",\"wb\")\n",
    "w_file.write(encoded_unicode_text)\n",
    "w_file.close()\n",
    "\n",
    "r_file = open(\"w_file.txt\",\"rb\")\n",
    "data = r_file.read()\n",
    "print(data)"
   ]
  },
  {
   "cell_type": "markdown",
   "id": "fe14dd84",
   "metadata": {},
   "source": [
    "**Q.7.** What qualifies ASCII text as a form of Unicode text?"
   ]
  },
  {
   "cell_type": "markdown",
   "id": "b7244d1a",
   "metadata": {},
   "source": [
    "**Answer :**"
   ]
  },
  {
   "cell_type": "markdown",
   "id": "c3de718a",
   "metadata": {},
   "source": [
    "UTF-8 encodes each of these characters with a single byte, any ASCII text is also a UTF-8 text. Unicode is a superset of ASCII."
   ]
  },
  {
   "cell_type": "markdown",
   "id": "b43f10a1",
   "metadata": {},
   "source": [
    "**Q.8.** How much of an effect does the change in string types in Python 3.X have on your code?"
   ]
  },
  {
   "cell_type": "markdown",
   "id": "ae4c78c9",
   "metadata": {},
   "source": [
    "**Answer :**"
   ]
  },
  {
   "cell_type": "markdown",
   "id": "552e3015",
   "metadata": {},
   "source": [
    "In Python 3.X and later, there is only one string type that is unicode. So no effect on the code."
   ]
  }
 ],
 "metadata": {
  "kernelspec": {
   "display_name": "Python 3",
   "language": "python",
   "name": "python3"
  },
  "language_info": {
   "codemirror_mode": {
    "name": "ipython",
    "version": 3
   },
   "file_extension": ".py",
   "mimetype": "text/x-python",
   "name": "python",
   "nbconvert_exporter": "python",
   "pygments_lexer": "ipython3",
   "version": "3.8.8"
  }
 },
 "nbformat": 4,
 "nbformat_minor": 5
}
