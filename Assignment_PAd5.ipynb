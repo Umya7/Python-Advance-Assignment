{
 "cells": [
  {
   "cell_type": "markdown",
   "id": "b98b46ae",
   "metadata": {},
   "source": [
    "## Assignment 5"
   ]
  },
  {
   "cell_type": "markdown",
   "id": "e7fc9eec",
   "metadata": {},
   "source": [
    "**Q.1.** What is the meaning of multiple inheritance?"
   ]
  },
  {
   "cell_type": "markdown",
   "id": "6e6dd0bb",
   "metadata": {},
   "source": [
    "**Answer :**"
   ]
  },
  {
   "cell_type": "markdown",
   "id": "077bdf1e",
   "metadata": {},
   "source": [
    "It is a feature where a class is derived from more than one base class.\n",
    "\n",
    "**Example :**\n",
    "```python\n",
    "class GrandFather:\n",
    "    pass\n",
    "class Father:\n",
    "    pass\n",
    "class Child(GrandFather, Father):\n",
    "    pass\n",
    "```"
   ]
  },
  {
   "cell_type": "markdown",
   "id": "15f4072b",
   "metadata": {},
   "source": [
    "**Q.2.** What is the concept of delegation?"
   ]
  },
  {
   "cell_type": "markdown",
   "id": "455fba66",
   "metadata": {},
   "source": [
    "**Answer :**"
   ]
  },
  {
   "cell_type": "markdown",
   "id": "2dc28d91",
   "metadata": {},
   "source": [
    "It is a object oriented technique where you change any one method of the object by creating a new class.\\\n",
    "And it would delegate the same technique to all other methods.\n",
    "\n",
    "**Example :**"
   ]
  },
  {
   "cell_type": "code",
   "execution_count": 1,
   "id": "0163d2cf",
   "metadata": {},
   "outputs": [
    {
     "name": "stdout",
     "output_type": "stream",
     "text": [
      "Hey i am back\n",
      "Hey i am back\n",
      "Hey i am back\n",
      "I am the main class\n"
     ]
    }
   ],
   "source": [
    "class Myclass:\n",
    "    def SayHi(self):\n",
    "        print('Hey i am back')\n",
    "        \n",
    "    def WhoAmI(self):\n",
    "        print('I am the main class')\n",
    "        \n",
    "class NewClass:\n",
    "    def __init__(self,obj):\n",
    "        self.main = obj\n",
    "        \n",
    "    def Welcome(self):\n",
    "        self.main.SayHi()\n",
    "\n",
    "m = Myclass()        \n",
    "n = NewClass(m)\n",
    "m.SayHi()\n",
    "n.main.SayHi()\n",
    "n.Welcome()\n",
    "n.main.WhoAmI()"
   ]
  },
  {
   "cell_type": "markdown",
   "id": "31c4397a",
   "metadata": {},
   "source": [
    "**Q.3.** What is the concept of composition?"
   ]
  },
  {
   "cell_type": "markdown",
   "id": "8a051ddc",
   "metadata": {},
   "source": [
    "**Answer :**"
   ]
  },
  {
   "cell_type": "markdown",
   "id": "3dbe28fe",
   "metadata": {},
   "source": [
    "Composition is used to create complex type by bringing together different objects of other types.\\\n",
    "Composition enables users to reuse the code by making modifications to the objects.\n",
    "\n",
    "**Example :**"
   ]
  },
  {
   "cell_type": "code",
   "execution_count": 2,
   "id": "6f0c962a",
   "metadata": {},
   "outputs": [
    {
     "name": "stdout",
     "output_type": "stream",
     "text": [
      "Total Salary : 14400\n"
     ]
    }
   ],
   "source": [
    "class Salary:\n",
    "    def __init__(self, pay):\n",
    "        self.pay = pay\n",
    "        \n",
    "    def Get_Total(self):\n",
    "        return self.pay*12\n",
    "    \n",
    "class Employee:\n",
    "    def __init__(self, pay, bonus):\n",
    "        self.pay = pay\n",
    "        self.bonus = bonus\n",
    "        self.obj_salary = Salary(self.pay)\n",
    "        \n",
    "    def Annual_Salary(self):\n",
    "        return f'Total Salary : {str(self.obj_salary.Get_Total())}'\n",
    "\n",
    "obj_emp = Employee(1200, 500)\n",
    "\n",
    "print(obj_emp.Annual_Salary())"
   ]
  },
  {
   "cell_type": "markdown",
   "id": "405b7428",
   "metadata": {},
   "source": [
    "**Q.4.** What are bound methods and how do we use them?"
   ]
  },
  {
   "cell_type": "markdown",
   "id": "c6dbb9bf",
   "metadata": {},
   "source": [
    "**Answer :**"
   ]
  },
  {
   "cell_type": "markdown",
   "id": "0d651d68",
   "metadata": {},
   "source": [
    "If a function is an attribute of class and it is accessed via the instances, they are called bound methods.\\\n",
    "A bound method is one that has self as its first argument.\\\n",
    "Since these are dependent on the instance of classes, these are also known as instance method\n",
    "\n",
    "**Example :**"
   ]
  },
  {
   "cell_type": "code",
   "execution_count": 3,
   "id": "95db7087",
   "metadata": {},
   "outputs": [
    {
     "name": "stdout",
     "output_type": "stream",
     "text": [
      "Called method_one\n",
      "Called method_two\n",
      "Called method_two\n",
      "Called method_three\n"
     ]
    }
   ],
   "source": [
    "class Test:\n",
    "    def method_one(self): # bound method\n",
    "        print(\"Called method_one\")\n",
    "        \n",
    "    @classmethod\n",
    "    def method_two(cls): # unbound method\n",
    "        print(\"Called method_two\")\n",
    "        \n",
    "    @staticmethod\n",
    "    def method_three(): # static method\n",
    "        print(\"Called method_three\")\n",
    "\n",
    "test = Test()\n",
    "test.method_one() # accessing through instance object\n",
    "test.method_two() # accessing through instance object\n",
    "Test.method_two() # accessing directly through class\n",
    "Test.method_three() # accessing directly through class"
   ]
  },
  {
   "cell_type": "markdown",
   "id": "59844b39",
   "metadata": {},
   "source": [
    "**Q.5.** What is the purpose of pseudoprivate attributes?"
   ]
  },
  {
   "cell_type": "markdown",
   "id": "66ecab75",
   "metadata": {},
   "source": [
    "**Answer :**"
   ]
  },
  {
   "cell_type": "markdown",
   "id": "c17b9d34",
   "metadata": {},
   "source": [
    "In Python, there is no concept of \"private\" as such.\\\n",
    "When naming properties and methods at the level, some special processing is actually done to the name, making it inaccessible to the outside world.\n",
    "\n",
    "**Exampple :**"
   ]
  },
  {
   "cell_type": "code",
   "execution_count": 4,
   "id": "84cd71ee",
   "metadata": {},
   "outputs": [
    {
     "name": "stdout",
     "output_type": "stream",
     "text": [
      "1\n",
      "2\n",
      "4\n"
     ]
    }
   ],
   "source": [
    "class Test:\n",
    "    def __init__(self, a, b, c, d):\n",
    "        self.__a = a # __ means pseudo private variable\n",
    "        self.b = b\n",
    "        self.c = c\n",
    "        self.d = d\n",
    "\n",
    "    def custom(self, v):\n",
    "        return v - self.__a\n",
    "\n",
    "t = Test(1, 2, 3, 4) \n",
    "\n",
    "print(t._Test__a) # this is the way to access Pseudo private  attribute\n",
    "print(t.b)\n",
    "print(t.custom(5))"
   ]
  }
 ],
 "metadata": {
  "kernelspec": {
   "display_name": "Python 3",
   "language": "python",
   "name": "python3"
  },
  "language_info": {
   "codemirror_mode": {
    "name": "ipython",
    "version": 3
   },
   "file_extension": ".py",
   "mimetype": "text/x-python",
   "name": "python",
   "nbconvert_exporter": "python",
   "pygments_lexer": "ipython3",
   "version": "3.8.8"
  }
 },
 "nbformat": 4,
 "nbformat_minor": 5
}
