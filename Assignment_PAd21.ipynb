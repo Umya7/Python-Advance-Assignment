{
 "cells": [
  {
   "cell_type": "markdown",
   "id": "72e3a51f",
   "metadata": {},
   "source": [
    "## Assignment 21"
   ]
  },
  {
   "cell_type": "markdown",
   "id": "b697e18d",
   "metadata": {},
   "source": [
    "**Q.1.** What is a probability distribution, exactly? If the values are meant to be random, how can you\n",
    "predict them at all?"
   ]
  },
  {
   "cell_type": "markdown",
   "id": "f106dd1c",
   "metadata": {},
   "source": [
    "**Answer :**"
   ]
  },
  {
   "cell_type": "markdown",
   "id": "531120c7",
   "metadata": {},
   "source": [
    "A probability distribution describes how a random variable is distributed,it tells us which values a random variable is most likely to take on and which values are less likely.Based on the previous data and the occurences of the random event, we can predict the outcome in terms of probabilities."
   ]
  },
  {
   "cell_type": "markdown",
   "id": "44a95408",
   "metadata": {},
   "source": [
    "**Q.2.** Is there a distinction between true random numbers and pseudo-random numbers, if there is\n",
    "one? Why are the latter considered “good enough”?"
   ]
  },
  {
   "cell_type": "markdown",
   "id": "94c07b17",
   "metadata": {},
   "source": [
    "**Answer :**"
   ]
  },
  {
   "cell_type": "markdown",
   "id": "b2d7b37f",
   "metadata": {},
   "source": [
    "True Random Numbers are true physical values while pseudo-random numbers are generated internally by a program . Latter is considered good enough as they have sort of uniform distribution."
   ]
  },
  {
   "cell_type": "markdown",
   "id": "e46d3185",
   "metadata": {},
   "source": [
    "**Q.3.** What are the two main factors that influence the behaviour of a \"normal\" probability distribution?"
   ]
  },
  {
   "cell_type": "markdown",
   "id": "f700398b",
   "metadata": {},
   "source": [
    "**Answer :**"
   ]
  },
  {
   "cell_type": "markdown",
   "id": "875a58b1",
   "metadata": {},
   "source": [
    "A normal distribution is determined by two parameters the mean and the variance. A normal distribution with a mean of 0 and a standard deviation of 1 is called a standard normal distribution."
   ]
  },
  {
   "cell_type": "markdown",
   "id": "44da9c5a",
   "metadata": {},
   "source": [
    "**Q.4.** Provide a real-life example of a normal distribution."
   ]
  },
  {
   "cell_type": "markdown",
   "id": "1e55a748",
   "metadata": {},
   "source": [
    "**Answer :**"
   ]
  },
  {
   "cell_type": "markdown",
   "id": "9950b86f",
   "metadata": {},
   "source": [
    "Real-life example of a normal distribution is A fair rolling of dice is also a good example of normal distribution."
   ]
  },
  {
   "cell_type": "markdown",
   "id": "aa91ee48",
   "metadata": {},
   "source": [
    "**Q.5.** In the short term, how can you expect a probability distribution to behave? What do you think will\n",
    "happen as the number of trials grows?"
   ]
  },
  {
   "cell_type": "markdown",
   "id": "e2adfc70",
   "metadata": {},
   "source": [
    "**Answer :**"
   ]
  },
  {
   "cell_type": "markdown",
   "id": "d10db96d",
   "metadata": {},
   "source": [
    "When trails are less, the variance will large. As the number of trials increase, the variance will reduce."
   ]
  },
  {
   "cell_type": "markdown",
   "id": "d2e12374",
   "metadata": {},
   "source": [
    "**Q.6.** What kind of object can be shuffled by using random.shuffle?"
   ]
  },
  {
   "cell_type": "markdown",
   "id": "41cb8bb3",
   "metadata": {},
   "source": [
    "**Answer :**"
   ]
  },
  {
   "cell_type": "markdown",
   "id": "2c7acb6d",
   "metadata": {},
   "source": [
    "lists (list), strings (str) and tuples (tuple) objects can be shuffled by using random.shuffle."
   ]
  },
  {
   "cell_type": "markdown",
   "id": "1572fb64",
   "metadata": {},
   "source": [
    "**Q.7.** Describe the math package's general categories of functions."
   ]
  },
  {
   "cell_type": "markdown",
   "id": "62ad8ab0",
   "metadata": {},
   "source": [
    "**Answer :**"
   ]
  },
  {
   "cell_type": "markdown",
   "id": "e55b248d",
   "metadata": {},
   "source": [
    "The general categories of math package are :\n",
    "    \n",
    "- Trigonometric functions\n",
    "- Quadratic functions\n",
    "- Exponential functions\n",
    "- Hyperbolic functions\n",
    "- Periodic functions\n",
    "- Arithmetic functions\n",
    "- Logarithimic functions\n",
    "- Conversions to Integer"
   ]
  },
  {
   "cell_type": "markdown",
   "id": "2a3594ec",
   "metadata": {},
   "source": [
    "**Q.8.** What is the relationship between exponentiation and logarithms?"
   ]
  },
  {
   "cell_type": "markdown",
   "id": "19db906c",
   "metadata": {},
   "source": [
    "**Answer :**"
   ]
  },
  {
   "cell_type": "markdown",
   "id": "3c6fbce6",
   "metadata": {},
   "source": [
    "The exponential function is given by ƒ(x) = ex, whereas the logarithmic function is given by g(x) = ln x, and former is the inverse of the latter.\n",
    "\n",
    "Also known as Exponentiation and logarithms are inverse of each other."
   ]
  },
  {
   "cell_type": "markdown",
   "id": "718413e8",
   "metadata": {},
   "source": [
    "**Q.9.** What are the three logarithmic functions that Python supports?"
   ]
  },
  {
   "cell_type": "markdown",
   "id": "466afdad",
   "metadata": {},
   "source": [
    "**Answer :**"
   ]
  },
  {
   "cell_type": "markdown",
   "id": "3973998e",
   "metadata": {},
   "source": [
    "The Three Logarithmic Functions that Python supports are :\n",
    "\n",
    "- log2(x) - logarithmic value of x to base 2.\n",
    "- log10(x) - logarithmic value of x to base 10.\n",
    "- log1p(a) - This function is used to compute logarithm(1+a)."
   ]
  }
 ],
 "metadata": {
  "kernelspec": {
   "display_name": "Python 3",
   "language": "python",
   "name": "python3"
  },
  "language_info": {
   "codemirror_mode": {
    "name": "ipython",
    "version": 3
   },
   "file_extension": ".py",
   "mimetype": "text/x-python",
   "name": "python",
   "nbconvert_exporter": "python",
   "pygments_lexer": "ipython3",
   "version": "3.8.8"
  }
 },
 "nbformat": 4,
 "nbformat_minor": 5
}
