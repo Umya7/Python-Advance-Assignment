{
 "cells": [
  {
   "cell_type": "markdown",
   "id": "1265bbd4",
   "metadata": {},
   "source": [
    "## Assignment 16"
   ]
  },
  {
   "cell_type": "markdown",
   "id": "09ef6e6d",
   "metadata": {},
   "source": [
    "**Q.1.** What is the benefit of regular expressions?"
   ]
  },
  {
   "cell_type": "markdown",
   "id": "d60482b3",
   "metadata": {},
   "source": [
    "**Answer :**"
   ]
  },
  {
   "cell_type": "markdown",
   "id": "dc4f0129",
   "metadata": {},
   "source": [
    "Regular Expressions, also known as regex or regexp, are used to match strings of text such as particular characters, words, or patterns of characters. It means that we can match and extract any string pattern from the text with the help of regular expressions. it helps the programmers to Write less and cleaner code. it also avoids multiple use of if/else statements."
   ]
  },
  {
   "cell_type": "markdown",
   "id": "a1043e3d",
   "metadata": {},
   "source": [
    "**Q.2.** Describe the difference between the effects of \"(ab)c+\" and \"a(bc)+.\" Which of these, if any, is the\n",
    "unqualified pattern \"abc+\"?"
   ]
  },
  {
   "cell_type": "markdown",
   "id": "b1a37cc7",
   "metadata": {},
   "source": [
    "**Answer :**"
   ]
  },
  {
   "cell_type": "markdown",
   "id": "a27f2d40",
   "metadata": {},
   "source": [
    "Both (ab)c+ and a(bc)+ are valid patterns. the difference between both these patterns is in (ab)c+ ab is group whereas in a(bc)+ bc is a group.\n",
    "\n",
    "Pattern (ab)c+ can be unqualified pattern \"abc+\"\n",
    "\n",
    "**Example :**"
   ]
  },
  {
   "cell_type": "code",
   "execution_count": 1,
   "id": "b1df0c0d",
   "metadata": {},
   "outputs": [
    {
     "name": "stdout",
     "output_type": "stream",
     "text": [
      "abcccccc\n",
      "abcbc\n"
     ]
    }
   ],
   "source": [
    "import re\n",
    "\n",
    "match1 = re.search(r'(ab)c+',\"abcccccc\")\n",
    "match2 = re.search(r'a(bc)+',\"abcbc\")\n",
    "\n",
    "print(match1.group())\n",
    "\n",
    "print(match2.group())"
   ]
  },
  {
   "cell_type": "markdown",
   "id": "eaf8e652",
   "metadata": {},
   "source": [
    "**Q.3.** How much do you need to use the following sentence while using regular expressions?\n",
    "```python\n",
    "import re\n",
    "```"
   ]
  },
  {
   "cell_type": "markdown",
   "id": "d53421f4",
   "metadata": {},
   "source": [
    "**Answer :**"
   ]
  },
  {
   "cell_type": "markdown",
   "id": "253835b3",
   "metadata": {},
   "source": [
    "<font color = green> __import__</font> re statement always has to be imported before using regular expressions."
   ]
  },
  {
   "cell_type": "markdown",
   "id": "857177f6",
   "metadata": {},
   "source": [
    "**Q.4.** Which characters have special significance in square brackets when expressing a range, and\n",
    "under what circumstances?"
   ]
  },
  {
   "cell_type": "markdown",
   "id": "1e58c147",
   "metadata": {},
   "source": [
    "**Answer :**"
   ]
  },
  {
   "cell_type": "markdown",
   "id": "4b6d9e27",
   "metadata": {},
   "source": [
    "The Characters **.** , __*__, **?**, **^**, or, **()**, have a special signiface when used with square brackets. They need not be be explicitly escaped by **\\** as in case of pattern texts in a raw string."
   ]
  },
  {
   "cell_type": "markdown",
   "id": "02d74354",
   "metadata": {},
   "source": [
    "**Q.5.** How does compiling a regular-expression object benefit you?"
   ]
  },
  {
   "cell_type": "markdown",
   "id": "c75782d3",
   "metadata": {},
   "source": [
    "**Answer :**"
   ]
  },
  {
   "cell_type": "markdown",
   "id": "0c3f3342",
   "metadata": {},
   "source": [
    "We can Combine a regular expression pattern into pattern Objects.Which can be used for pattern matching. it also helps to search a pattern again without rewritting it."
   ]
  },
  {
   "cell_type": "markdown",
   "id": "313bcf5e",
   "metadata": {},
   "source": [
    "**Q.6.** What are some examples of how to use the match object returned by re.match and re.search?"
   ]
  },
  {
   "cell_type": "markdown",
   "id": "526ac5c0",
   "metadata": {},
   "source": [
    "**Answer :**"
   ]
  },
  {
   "cell_type": "markdown",
   "id": "b7e53bd4",
   "metadata": {},
   "source": [
    "The **re.search()** & **re.match()** both are functions of re module in python. These functions are very efficient and fast for searching in strings. The function searches for some substring in a string and returns a match object if found, else it returns none.\n",
    "\n",
    "There is a difference between the use of both functions. Both return the first match of a substring found in the string, but re.match() searches only from the beginning of the string and return match object if found. But if a match of substring is found somewhere in the middle of the string, it returns none.\n",
    "\n",
    "While re.search() searches for the whole string even if the string contains multi-lines and tries to find a match of the substring in all the lines of string.\n",
    "\n",
    "**Example :**"
   ]
  },
  {
   "cell_type": "code",
   "execution_count": 2,
   "id": "0edcf675",
   "metadata": {},
   "outputs": [
    {
     "name": "stdout",
     "output_type": "stream",
     "text": [
      "<re.Match object; span=(66, 72), match='string'>\n",
      "None\n",
      "<re.Match object; span=(0, 6), match='string'>\n",
      "<re.Match object; span=(0, 6), match='string'>\n"
     ]
    }
   ],
   "source": [
    "import re\n",
    "Substring ='string' \n",
    "String1 ='We are learning regex with geeksforgeeks regex is very useful for string matching. It is fast too.' \n",
    "String2 ='string We are learning regex with geeksforgeeks regex is very useful for string matching. It is fast too.'\n",
    "print(re.search(Substring, String1, re.IGNORECASE))\n",
    "print(re.match(Substring, String1, re.IGNORECASE))\n",
    "print(re.search(Substring, String2, re.IGNORECASE))\n",
    "print(re.match(Substring, String2, re.IGNORECASE))"
   ]
  },
  {
   "cell_type": "markdown",
   "id": "5a169573",
   "metadata": {},
   "source": [
    "**Q.7.** What is the difference between using a vertical bar (|) as an alteration and using square brackets\n",
    "as a character set?"
   ]
  },
  {
   "cell_type": "markdown",
   "id": "3137c8e3",
   "metadata": {},
   "source": [
    "**Answer :**"
   ]
  },
  {
   "cell_type": "markdown",
   "id": "b96ff019",
   "metadata": {},
   "source": [
    "**|**  is used to provide 'or' functionality when used within ()'s, [] is denoted as character classes, as in match any of the characters/symbols.\n",
    "\n",
    "**Example :**"
   ]
  },
  {
   "cell_type": "code",
   "execution_count": 3,
   "id": "4f1e13ce",
   "metadata": {},
   "outputs": [
    {
     "name": "stdout",
     "output_type": "stream",
     "text": [
      "['She']\n",
      "['she is great human!']\n"
     ]
    }
   ],
   "source": [
    "import re\n",
    "\n",
    "print(re.findall(\"She|he\", \"She is a great human!\"))\n",
    "\n",
    "print(re.findall(r'[^\\d]+',\"she is great human!\"))"
   ]
  },
  {
   "cell_type": "markdown",
   "id": "4aa6e2ba",
   "metadata": {},
   "source": [
    "**Q.8.** In regular-expression search patterns, why is it necessary to use the raw-string indicator (r)? In replacement strings?"
   ]
  },
  {
   "cell_type": "markdown",
   "id": "cfc2c7bf",
   "metadata": {},
   "source": [
    "**Answer :**"
   ]
  },
  {
   "cell_type": "markdown",
   "id": "f79813e3",
   "metadata": {},
   "source": [
    "raw string notation (r\"text\") keeps regular expressions meaningful and confusion-free."
   ]
  }
 ],
 "metadata": {
  "kernelspec": {
   "display_name": "Python 3",
   "language": "python",
   "name": "python3"
  },
  "language_info": {
   "codemirror_mode": {
    "name": "ipython",
    "version": 3
   },
   "file_extension": ".py",
   "mimetype": "text/x-python",
   "name": "python",
   "nbconvert_exporter": "python",
   "pygments_lexer": "ipython3",
   "version": "3.8.8"
  }
 },
 "nbformat": 4,
 "nbformat_minor": 5
}
