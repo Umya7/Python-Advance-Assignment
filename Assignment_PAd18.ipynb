{
 "cells": [
  {
   "cell_type": "markdown",
   "id": "79a23641",
   "metadata": {},
   "source": [
    "## Assignment 18"
   ]
  },
  {
   "cell_type": "markdown",
   "id": "f7e5d3e2",
   "metadata": {},
   "source": [
    "**Q.1.** Describe the differences between text and binary files in a single paragraph."
   ]
  },
  {
   "cell_type": "markdown",
   "id": "b82899ae",
   "metadata": {},
   "source": [
    "**Answer :**"
   ]
  },
  {
   "cell_type": "markdown",
   "id": "b8cde975",
   "metadata": {},
   "source": [
    "Each line of text is terminated with a special character, which is the new line character (‘\\n’).\n",
    "\n",
    "While binary files are where there is no termination of line and data is stored only after the files are converted in binary."
   ]
  },
  {
   "cell_type": "markdown",
   "id": "76678937",
   "metadata": {},
   "source": [
    "**Q.2.** What are some scenarios where using text files will be the better option? When would you like to\n",
    "use binary files instead of text files?"
   ]
  },
  {
   "cell_type": "markdown",
   "id": "7065deb4",
   "metadata": {},
   "source": [
    "**Answer :**"
   ]
  },
  {
   "cell_type": "markdown",
   "id": "21b6b4ac",
   "metadata": {},
   "source": [
    "Text files are usually preferred as there is minor chances of data getting corrupted.\n",
    "\n",
    "Binary files are used when the data includes (audio, video and text) in a single file."
   ]
  },
  {
   "cell_type": "markdown",
   "id": "5f0e2a3d",
   "metadata": {},
   "source": [
    "**Q.3.** What are some of the issues with using binary operations to read and write a Python integer\n",
    "directly to disc?"
   ]
  },
  {
   "cell_type": "markdown",
   "id": "33fcc47c",
   "metadata": {},
   "source": [
    "**Answer :**"
   ]
  },
  {
   "cell_type": "markdown",
   "id": "612fcaba",
   "metadata": {},
   "source": [
    "When we read or write a python integer using binary operations.\n",
    "\n",
    "Binary operations deal with raw data. One needs to identify how many bytes one would read or write."
   ]
  },
  {
   "cell_type": "markdown",
   "id": "beac6afe",
   "metadata": {},
   "source": [
    "**Q.4.** Describe a benefit of using the with keyword instead of explicitly opening a file."
   ]
  },
  {
   "cell_type": "markdown",
   "id": "70c8c52f",
   "metadata": {},
   "source": [
    "**Answer :**"
   ]
  },
  {
   "cell_type": "markdown",
   "id": "d831a8ab",
   "metadata": {},
   "source": [
    "When a file is opened using the with keyword, if some exceptions occur after opening a file, or at the end of the file it automatically does the closing of the file. There by not leaving an file in open mode and there would no need to explicitly close a file."
   ]
  },
  {
   "cell_type": "markdown",
   "id": "6f866791",
   "metadata": {},
   "source": [
    "**Q.5.** Does Python have the trailing newline while reading a line of text? Does Python append a\n",
    "newline when you write a line of text?"
   ]
  },
  {
   "cell_type": "markdown",
   "id": "5a9046ef",
   "metadata": {},
   "source": [
    "**Answer :**"
   ]
  },
  {
   "cell_type": "markdown",
   "id": "827787f7",
   "metadata": {},
   "source": [
    "Yes, Python have the trailing newline while reading a line of text. When we write a newline has to be provided in python excpicitly."
   ]
  },
  {
   "cell_type": "markdown",
   "id": "22611083",
   "metadata": {},
   "source": [
    "**Q.6.** What file operations enable for random-access operation?"
   ]
  },
  {
   "cell_type": "markdown",
   "id": "db173bc0",
   "metadata": {},
   "source": [
    "**Answer :**"
   ]
  },
  {
   "cell_type": "markdown",
   "id": "58e48a8a",
   "metadata": {},
   "source": [
    "The file operations enable for random-access operation are **`seek()`** and **`tell()`**."
   ]
  },
  {
   "cell_type": "markdown",
   "id": "e7c225b9",
   "metadata": {},
   "source": [
    "**Q.7.** When do you think you'll use the struct package the most?"
   ]
  },
  {
   "cell_type": "markdown",
   "id": "48943da3",
   "metadata": {},
   "source": [
    "**Answer :**"
   ]
  },
  {
   "cell_type": "markdown",
   "id": "b3e2d6c7",
   "metadata": {},
   "source": [
    "The struct package is mostly used while converting a common python types into C language types."
   ]
  },
  {
   "cell_type": "markdown",
   "id": "faf2b7de",
   "metadata": {},
   "source": [
    "**Q.8.** When is pickling the best option?"
   ]
  },
  {
   "cell_type": "markdown",
   "id": "d69ce1c6",
   "metadata": {},
   "source": [
    "**Answer :**"
   ]
  },
  {
   "cell_type": "markdown",
   "id": "a1b10c3a",
   "metadata": {},
   "source": [
    "Pickling is best option for creating a new binary file using python."
   ]
  },
  {
   "cell_type": "markdown",
   "id": "c0d703f7",
   "metadata": {},
   "source": [
    "**Q.9.** When will it be best to use the shelve package?"
   ]
  },
  {
   "cell_type": "markdown",
   "id": "23eb5cd1",
   "metadata": {},
   "source": [
    "**Answer :**"
   ]
  },
  {
   "cell_type": "markdown",
   "id": "15b9fe8b",
   "metadata": {},
   "source": [
    "Shelve package is used to pickle data but treats the entire file as dictionary."
   ]
  },
  {
   "cell_type": "markdown",
   "id": "d96be28c",
   "metadata": {},
   "source": [
    "**Q.10.** What is a special restriction when using the shelve package, as opposed to using other data\n",
    "dictionaries?"
   ]
  },
  {
   "cell_type": "markdown",
   "id": "f866174c",
   "metadata": {},
   "source": [
    "**Answer :**"
   ]
  },
  {
   "cell_type": "markdown",
   "id": "e287bab3",
   "metadata": {},
   "source": [
    "Only string data type can be used as key in this special dictionary object, whereas any picklable Python object can be used as value."
   ]
  }
 ],
 "metadata": {
  "kernelspec": {
   "display_name": "Python 3",
   "language": "python",
   "name": "python3"
  },
  "language_info": {
   "codemirror_mode": {
    "name": "ipython",
    "version": 3
   },
   "file_extension": ".py",
   "mimetype": "text/x-python",
   "name": "python",
   "nbconvert_exporter": "python",
   "pygments_lexer": "ipython3",
   "version": "3.8.8"
  }
 },
 "nbformat": 4,
 "nbformat_minor": 5
}
