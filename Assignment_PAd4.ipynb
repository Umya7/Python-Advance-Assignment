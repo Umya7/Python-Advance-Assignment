{
 "cells": [
  {
   "cell_type": "markdown",
   "id": "ffdccdad",
   "metadata": {},
   "source": [
    "## Assignment 4"
   ]
  },
  {
   "cell_type": "markdown",
   "id": "1ae2776b",
   "metadata": {},
   "source": [
    "**Q.1.** Which two operator overloading methods can you use in your classes to support iteration?"
   ]
  },
  {
   "cell_type": "markdown",
   "id": "f518366d",
   "metadata": {},
   "source": [
    "**Answer :**"
   ]
  },
  {
   "cell_type": "markdown",
   "id": "3b2c15ec",
   "metadata": {},
   "source": [
    "`add()` and `mul()` methods can be used for both integers and string data objects.\\\n",
    "String is iterable object. When two strings are passed to *+* operator, it will return concatenated string.\\\n",
    "When * (number) is preceeded by string, then that string is repeated those many number of time."
   ]
  },
  {
   "cell_type": "markdown",
   "id": "fae6dafd",
   "metadata": {},
   "source": [
    "**Example :**"
   ]
  },
  {
   "cell_type": "code",
   "execution_count": 1,
   "id": "a2b89b94",
   "metadata": {},
   "outputs": [
    {
     "name": "stdout",
     "output_type": "stream",
     "text": [
      "UmeshPrajapati\n",
      "UmeshUmeshUmesh\n"
     ]
    }
   ],
   "source": [
    "print(\"Umesh\" + 'Prajapati')\n",
    "\n",
    "print(\"Umesh\" * 3)"
   ]
  },
  {
   "cell_type": "markdown",
   "id": "1ca518e3",
   "metadata": {},
   "source": [
    "**Q.2.** In what contexts do the two operator overloading methods manage printing?"
   ]
  },
  {
   "cell_type": "markdown",
   "id": "a8af7dad",
   "metadata": {},
   "source": [
    "**Answer :**"
   ]
  },
  {
   "cell_type": "markdown",
   "id": "3fadd5d4",
   "metadata": {},
   "source": [
    "It depends on the input parameter result is printed.\\\n",
    "Example, If both inputs are string function will print string output."
   ]
  },
  {
   "cell_type": "markdown",
   "id": "6a155272",
   "metadata": {},
   "source": [
    "**Q.3.** In a class, how do you intercept slice operations?"
   ]
  },
  {
   "cell_type": "markdown",
   "id": "b3a0ff5b",
   "metadata": {},
   "source": [
    "**Answer :**"
   ]
  },
  {
   "cell_type": "markdown",
   "id": "e22e83f0",
   "metadata": {},
   "source": [
    "In a class use of `slice()` in **`__getitem__`** method is used for intercept slice operation.\\\n",
    "This slice method is provided with start integer number, stop integer number and step integer number.\n",
    "\n",
    "**Syntax :** **`__getitem__`**(slice (start, stop, step))"
   ]
  },
  {
   "cell_type": "markdown",
   "id": "e086fe3a",
   "metadata": {},
   "source": [
    "**Q.4.** In a class, how do you capture in-place addition?"
   ]
  },
  {
   "cell_type": "markdown",
   "id": "b700856c",
   "metadata": {},
   "source": [
    "**Answer :**"
   ]
  },
  {
   "cell_type": "markdown",
   "id": "8d609a52",
   "metadata": {},
   "source": [
    "`a + b` is normal addition.\\\n",
    "Whereas `a += b` is inplace addition operation.\\\n",
    "In this in-place addition a itself will store the value of addition.\\\n",
    "In a class **`__iadd__`** method is used for this in-place operation.\n",
    "\n",
    "**Example :**"
   ]
  },
  {
   "cell_type": "code",
   "execution_count": 2,
   "id": "18f38b5c",
   "metadata": {},
   "outputs": [
    {
     "name": "stdout",
     "output_type": "stream",
     "text": [
      "300\n"
     ]
    }
   ],
   "source": [
    "class Book:\n",
    "    def __init__(self, pages):\n",
    "        self.pages = pages\n",
    "        \n",
    "    def __iadd__(self, other):\n",
    "        self.pages += other.pages\n",
    "        return self.pages\n",
    "        \n",
    "a1 = Book(100)\n",
    "a2 = Book(200)\n",
    "a1 += a2\n",
    "\n",
    "print(a1)"
   ]
  },
  {
   "cell_type": "markdown",
   "id": "b0e362ff",
   "metadata": {},
   "source": [
    "**Q.5.** When is it appropriate to use operator overloading?"
   ]
  },
  {
   "cell_type": "markdown",
   "id": "f0d66eef",
   "metadata": {},
   "source": [
    "**Answer :**"
   ]
  },
  {
   "cell_type": "markdown",
   "id": "b0a0885f",
   "metadata": {},
   "source": [
    "Operator overloading is used when we want to use an operator other than its normal operation to have different meaning according to the context required in user defined function.\n",
    "\n",
    "**Example :**"
   ]
  },
  {
   "cell_type": "code",
   "execution_count": 3,
   "id": "850b2cbf",
   "metadata": {},
   "outputs": [
    {
     "name": "stdout",
     "output_type": "stream",
     "text": [
      "Total Number of Pages -> 300\n"
     ]
    }
   ],
   "source": [
    "class Book:\n",
    "    def __init__(self, pages):\n",
    "        self.pages = pages\n",
    "        \n",
    "    def __add__(self,other):\n",
    "        return self.pages+other.pages\n",
    "    \n",
    "a1 = Book(100)\n",
    "a2 = Book(200)\n",
    "\n",
    "print(f'Total Number of Pages -> {a1 + a2}')"
   ]
  }
 ],
 "metadata": {
  "kernelspec": {
   "display_name": "Python 3",
   "language": "python",
   "name": "python3"
  },
  "language_info": {
   "codemirror_mode": {
    "name": "ipython",
    "version": 3
   },
   "file_extension": ".py",
   "mimetype": "text/x-python",
   "name": "python",
   "nbconvert_exporter": "python",
   "pygments_lexer": "ipython3",
   "version": "3.8.8"
  }
 },
 "nbformat": 4,
 "nbformat_minor": 5
}
