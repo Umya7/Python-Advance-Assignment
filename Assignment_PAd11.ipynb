{
 "cells": [
  {
   "cell_type": "markdown",
   "id": "8d6922f1",
   "metadata": {},
   "source": [
    "## Assignment 11"
   ]
  },
  {
   "cell_type": "markdown",
   "id": "09441727",
   "metadata": {},
   "source": [
    "**Q.1.** What is the concept of a metaclass?"
   ]
  },
  {
   "cell_type": "markdown",
   "id": "09bf82ff",
   "metadata": {},
   "source": [
    "**Answer :**"
   ]
  },
  {
   "cell_type": "markdown",
   "id": "d01255c0",
   "metadata": {},
   "source": [
    "Metaclass in Python is a class of a class that defines how a class behaves. A class is itself a instance of Metaclass, and any Instance of Class in Python is an Instance of type metaclass. E.g. Type of of **`int`, `str`, `float`, `list`, `tuple`** and many more is of metaclass type."
   ]
  },
  {
   "cell_type": "markdown",
   "id": "34986972",
   "metadata": {},
   "source": [
    "**Q.2.** What is the best way to declare a class's metaclass?"
   ]
  },
  {
   "cell_type": "markdown",
   "id": "3041352b",
   "metadata": {},
   "source": [
    "**Answer :**"
   ]
  },
  {
   "cell_type": "markdown",
   "id": "26d3d65d",
   "metadata": {},
   "source": [
    "A way to declare a class metaclass is by using metaclass keyword in class definition.\n",
    "\n",
    "**Example :**"
   ]
  },
  {
   "cell_type": "code",
   "execution_count": 1,
   "id": "7c94dddd",
   "metadata": {},
   "outputs": [
    {
     "name": "stdout",
     "output_type": "stream",
     "text": [
      "<class 'type'>\n",
      "<class '__main__.meta'>\n"
     ]
    }
   ],
   "source": [
    "class meta(type):\n",
    "    pass\n",
    "\n",
    "class class_meta(metaclass = meta):\n",
    "    pass\n",
    "\n",
    "print(type(meta))\n",
    "print(type(class_meta))"
   ]
  },
  {
   "cell_type": "markdown",
   "id": "9167b878",
   "metadata": {},
   "source": [
    "**Q.3.** How do class decorators overlap with metaclasses for handling classes?"
   ]
  },
  {
   "cell_type": "markdown",
   "id": "85cb96be",
   "metadata": {},
   "source": [
    "**Answer :**"
   ]
  },
  {
   "cell_type": "markdown",
   "id": "8d3816cc",
   "metadata": {},
   "source": [
    "Anything you can do with a class decorator, you can of course do with a custom metaclasses (just apply the functionality of the \"decorator function\", i.e., the one that takes a class object and modifies it, in the course of the metaclass's **`__new__` or `__init__`** that make the class object!)."
   ]
  },
  {
   "cell_type": "markdown",
   "id": "9e62e2dd",
   "metadata": {},
   "source": [
    "**Q.4.** How do class decorators overlap with metaclasses for handling instances?"
   ]
  },
  {
   "cell_type": "markdown",
   "id": "96f6c368",
   "metadata": {},
   "source": [
    "**Answer :**"
   ]
  },
  {
   "cell_type": "markdown",
   "id": "54d7e32b",
   "metadata": {},
   "source": [
    "Both `decorators`and `metaclass` have some common things. When we want to apply some common functionality to attributes of the class instances, both can be used. There are some problems which can be solved by `decorators` as well as by `metaclasses`. But there are a few problems that can only be solved by metaclasses. Use of metaclass affects its children while the decorator affects only the current class."
   ]
  }
 ],
 "metadata": {
  "kernelspec": {
   "display_name": "Python 3",
   "language": "python",
   "name": "python3"
  },
  "language_info": {
   "codemirror_mode": {
    "name": "ipython",
    "version": 3
   },
   "file_extension": ".py",
   "mimetype": "text/x-python",
   "name": "python",
   "nbconvert_exporter": "python",
   "pygments_lexer": "ipython3",
   "version": "3.8.8"
  }
 },
 "nbformat": 4,
 "nbformat_minor": 5
}
